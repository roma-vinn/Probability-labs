{
 "cells": [
  {
   "cell_type": "markdown",
   "metadata": {},
   "source": [
    "# Лабораторне заняття №2\n",
    "Знайомство з бібліотекою **NumPy**."
   ]
  },
  {
   "cell_type": "code",
   "execution_count": 1,
   "metadata": {},
   "outputs": [],
   "source": [
    "import numpy as np"
   ]
  },
  {
   "cell_type": "markdown",
   "metadata": {},
   "source": [
    "## 1 Огляд функцій випадкового вибору"
   ]
  },
  {
   "cell_type": "markdown",
   "metadata": {},
   "source": [
    "### 1.1 Функція *choice*\n",
    "Для детальної інформації див. [документацію](https://docs.scipy.org/doc/numpy-1.14.1/reference/generated/numpy.random.choice.html)."
   ]
  },
  {
   "cell_type": "code",
   "execution_count": 2,
   "metadata": {},
   "outputs": [
    {
     "name": "stdout",
     "output_type": "stream",
     "text": [
      "['4.5' 'top' 'top' 'top' 'top' '2' '2' 'top' '2' '4.5']\n"
     ]
    }
   ],
   "source": [
    "a = [\"top\", 2, \"bottom\", 4.5]\n",
    "size = 10\n",
    "probs = [0.4, 0.2, 0.1, 0.3]\n",
    "replace = True\n",
    "print(np.random.choice(a, size=size, replace=replace, p=probs))"
   ]
  },
  {
   "cell_type": "markdown",
   "metadata": {},
   "source": [
    "Згенеруйте одну випадкову цифру, вважаючи їх рівноймовірними."
   ]
  },
  {
   "cell_type": "code",
   "execution_count": 5,
   "metadata": {},
   "outputs": [
    {
     "data": {
      "text/plain": [
       "6"
      ]
     },
     "execution_count": 5,
     "metadata": {},
     "output_type": "execute_result"
    }
   ],
   "source": [
    "print(np.random.choice(list(range(10))))"
   ]
  },
  {
   "cell_type": "markdown",
   "metadata": {},
   "source": [
    "Згенеруйте випадкову матрицю $4 \\times 6$ із рівноймовірних цифр."
   ]
  },
  {
   "cell_type": "code",
   "execution_count": 9,
   "metadata": {},
   "outputs": [
    {
     "name": "stdout",
     "output_type": "stream",
     "text": [
      "[[0 6 3 0 2 0]\n",
      " [1 1 1 7 1 4]\n",
      " [4 9 2 0 5 1]\n",
      " [3 9 3 5 7 1]]\n"
     ]
    }
   ],
   "source": [
    "print(np.random.choice(list(range(10)), size=(4, 6)))"
   ]
  },
  {
   "cell_type": "markdown",
   "metadata": {},
   "source": [
    "### 1.2 Функція *randint*\n",
    "Для детальної інформації див. [документацію](https://docs.scipy.org/doc/numpy-1.14.1/reference/generated/numpy.random.randint.html)."
   ]
  },
  {
   "cell_type": "code",
   "execution_count": 8,
   "metadata": {},
   "outputs": [
    {
     "name": "stdout",
     "output_type": "stream",
     "text": [
      "[1 2 0 2 3 4 3 1 3 4]\n"
     ]
    }
   ],
   "source": [
    "low = 0\n",
    "high = 5\n",
    "size = 10\n",
    "print(np.random.randint(low=low, high=high, size=size))"
   ]
  },
  {
   "cell_type": "markdown",
   "metadata": {},
   "source": [
    "Згенеруйте одну випадкову цифру."
   ]
  },
  {
   "cell_type": "code",
   "execution_count": 35,
   "metadata": {},
   "outputs": [
    {
     "name": "stdout",
     "output_type": "stream",
     "text": [
      "0\n"
     ]
    }
   ],
   "source": [
    "print(np.random.randint(low=0, high=10))"
   ]
  },
  {
   "cell_type": "markdown",
   "metadata": {},
   "source": [
    "Згенеруйте випадкову матрицю $4 \\times 5$ із двоцифрових чисел."
   ]
  },
  {
   "cell_type": "code",
   "execution_count": 36,
   "metadata": {},
   "outputs": [
    {
     "name": "stdout",
     "output_type": "stream",
     "text": [
      "[[10 36 71 86 12]\n",
      " [79 81 36 18 71]\n",
      " [46 60 53 33 88]\n",
      " [68 41 97 61 71]]\n"
     ]
    }
   ],
   "source": [
    "print(np.random.randint(low=10, high=100, size=(4, 5)))"
   ]
  },
  {
   "cell_type": "markdown",
   "metadata": {},
   "source": [
    "### 1.3 Функція *sample*\n",
    "Для детальної інформації див. [документацію](https://docs.scipy.org/doc/numpy-1.14.1/reference/generated/numpy.random.sample.html)."
   ]
  },
  {
   "cell_type": "code",
   "execution_count": 12,
   "metadata": {},
   "outputs": [
    {
     "name": "stdout",
     "output_type": "stream",
     "text": [
      "0.2188262757964119\n"
     ]
    }
   ],
   "source": [
    "size = None\n",
    "print(np.random.sample(size=size))"
   ]
  },
  {
   "cell_type": "markdown",
   "metadata": {},
   "source": [
    "Згенеруйте випадкову матрицю $3 \\times 4$ із чисел з інтервалу $[0, 1)$."
   ]
  },
  {
   "cell_type": "code",
   "execution_count": 13,
   "metadata": {},
   "outputs": [
    {
     "name": "stdout",
     "output_type": "stream",
     "text": [
      "[[0.80087404 0.58332044 0.45160849 0.11113887]\n",
      " [0.8633855  0.74666859 0.52629619 0.5126615 ]\n",
      " [0.8398362  0.14844309 0.92331447 0.63094193]]\n"
     ]
    }
   ],
   "source": [
    "print(np.random.sample(size=(3, 4)))"
   ]
  },
  {
   "cell_type": "markdown",
   "metadata": {},
   "source": [
    "Згенеруйте 10 випадкових чисел з інтервалу $[a, b)$."
   ]
  },
  {
   "cell_type": "code",
   "execution_count": 10,
   "metadata": {
    "collapsed": true
   },
   "outputs": [],
   "source": [
    "a = 3\n",
    "b = 5"
   ]
  },
  {
   "cell_type": "code",
   "execution_count": 14,
   "metadata": {},
   "outputs": [
    {
     "name": "stdout",
     "output_type": "stream",
     "text": [
      "[0.72053826 0.11673328 0.37156688 0.84755483 0.76863121 0.05420746\n",
      " 0.01418261 0.95014268 0.84412076 0.05341377]\n"
     ]
    }
   ],
   "source": [
    "print(np.random.sample(size=10))"
   ]
  },
  {
   "cell_type": "markdown",
   "metadata": {},
   "source": [
    "### 1.4 Функція *shuffle*\n",
    "Для детальної інформації див. [документацію](https://docs.scipy.org/doc/numpy-1.14.1/reference/generated/numpy.random.shuffle.html)."
   ]
  },
  {
   "cell_type": "code",
   "execution_count": 16,
   "metadata": {},
   "outputs": [
    {
     "name": "stdout",
     "output_type": "stream",
     "text": [
      "[5 7 8 2 0 3 9 1 6 4]\n"
     ]
    }
   ],
   "source": [
    "x = np.arange(10)\n",
    "np.random.shuffle(x)\n",
    "print(x)"
   ]
  },
  {
   "cell_type": "markdown",
   "metadata": {},
   "source": [
    "Перетасуйте матрицю $M$."
   ]
  },
  {
   "cell_type": "code",
   "execution_count": 21,
   "metadata": {},
   "outputs": [
    {
     "name": "stdout",
     "output_type": "stream",
     "text": [
      "[[ 0  1  2  3  4]\n",
      " [ 5  6  7  8  9]\n",
      " [10 11 12 13 14]\n",
      " [15 16 17 18 19]]\n"
     ]
    }
   ],
   "source": [
    "M = np.arange(20).reshape((4, 5))\n",
    "print(M)"
   ]
  },
  {
   "cell_type": "code",
   "execution_count": 22,
   "metadata": {},
   "outputs": [
    {
     "name": "stdout",
     "output_type": "stream",
     "text": [
      "[[10 11 12 13 14]\n",
      " [ 5  6  7  8  9]\n",
      " [15 16 17 18 19]\n",
      " [ 0  1  2  3  4]]\n"
     ]
    }
   ],
   "source": [
    "np.random.shuffle(M)\n",
    "print(M)"
   ]
  },
  {
   "cell_type": "code",
   "execution_count": 23,
   "metadata": {},
   "outputs": [
    {
     "name": "stdout",
     "output_type": "stream",
     "text": [
      "[[18  0 16  9 19]\n",
      " [14  5 15 10  8]\n",
      " [ 4  2 17  7 11]\n",
      " [12 13  3  6  1]]\n"
     ]
    }
   ],
   "source": [
    "# або \n",
    "M = M.flatten()\n",
    "np.random.shuffle(M)\n",
    "M = M.reshape((4, 5))\n",
    "print(M)"
   ]
  },
  {
   "cell_type": "markdown",
   "metadata": {},
   "source": [
    "## 2 Відтворюваність результатів\n",
    "Можна задати початкове значення для генератора. Це зафіксує \"випадкову\" послідовність."
   ]
  },
  {
   "cell_type": "code",
   "execution_count": 24,
   "metadata": {},
   "outputs": [],
   "source": [
    "np.random.seed(42)"
   ]
  },
  {
   "cell_type": "code",
   "execution_count": 25,
   "metadata": {},
   "outputs": [
    {
     "name": "stdout",
     "output_type": "stream",
     "text": [
      "6\n"
     ]
    }
   ],
   "source": [
    "print(np.random.randint(10))"
   ]
  },
  {
   "cell_type": "code",
   "execution_count": 26,
   "metadata": {},
   "outputs": [
    {
     "name": "stdout",
     "output_type": "stream",
     "text": [
      "3\n"
     ]
    }
   ],
   "source": [
    "print(np.random.randint(10))"
   ]
  },
  {
   "cell_type": "code",
   "execution_count": 27,
   "metadata": {},
   "outputs": [
    {
     "name": "stdout",
     "output_type": "stream",
     "text": [
      "6\n",
      "3\n"
     ]
    }
   ],
   "source": [
    "np.random.seed(42)\n",
    "print(np.random.randint(10))\n",
    "print(np.random.randint(10))"
   ]
  },
  {
   "cell_type": "code",
   "execution_count": 28,
   "metadata": {},
   "outputs": [
    {
     "name": "stdout",
     "output_type": "stream",
     "text": [
      "[6 3 7 4 6 9 2 6 7 4]\n",
      "['l' 'l' 'l' 'b' 'r' 't' 'r' 'l' 'l' 'r']\n",
      "[6 3 7 4 6 9 2 6 7 4]\n",
      "['l' 'l' 'l' 'b' 'r' 't' 'r' 'l' 'l' 'r']\n"
     ]
    }
   ],
   "source": [
    "np.random.seed(42)\n",
    "print(np.random.randint(10, size=10))\n",
    "print(np.random.choice(['t', 'r', 'b', 'l'], size=10))\n",
    "np.random.seed(42)\n",
    "print(np.random.randint(10, size=10))\n",
    "print(np.random.choice(['t', 'r', 'b', 'l'], size=10))"
   ]
  },
  {
   "cell_type": "markdown",
   "metadata": {},
   "source": [
    "## 3 Монетка"
   ]
  },
  {
   "cell_type": "markdown",
   "metadata": {},
   "source": [
    "### 3.1 За допомогою функції *choice*"
   ]
  },
  {
   "cell_type": "code",
   "execution_count": 29,
   "metadata": {},
   "outputs": [
    {
     "name": "stdout",
     "output_type": "stream",
     "text": [
      "['H' 'H' 'H' 'H' 'T' 'H' 'H' 'T' 'H' 'H']\n"
     ]
    }
   ],
   "source": [
    "p=0.5\n",
    "n=10\n",
    "tosses=np.random.choice([\"H\",\"T\"],p=[p,1-p], size=n)\n",
    "print(tosses)"
   ]
  },
  {
   "cell_type": "code",
   "execution_count": 30,
   "metadata": {},
   "outputs": [
    {
     "name": "stdout",
     "output_type": "stream",
     "text": [
      "8 heads and 2 tails\n"
     ]
    }
   ],
   "source": [
    "heads = list(tosses).count(\"H\")\n",
    "tails = list(tosses).count(\"T\")\n",
    "\n",
    "print(\"{} heads and {} tails\".format(heads,tails))"
   ]
  },
  {
   "cell_type": "markdown",
   "metadata": {},
   "source": [
    "Просимулюйте $100$ підкидань монетки та підрахуйте кількість кожної із сторін."
   ]
  },
  {
   "cell_type": "code",
   "execution_count": 31,
   "metadata": {},
   "outputs": [
    {
     "name": "stdout",
     "output_type": "stream",
     "text": [
      "50 heads and 50 tails\n"
     ]
    }
   ],
   "source": [
    "p=0.5\n",
    "n=100\n",
    "tosses=np.random.choice([\"H\",\"T\"],p=[p,1-p], size=n)\n",
    "heads = list(tosses).count(\"H\")\n",
    "tails = list(tosses).count(\"T\")\n",
    "print(\"{} heads and {} tails\".format(heads,tails))"
   ]
  },
  {
   "cell_type": "markdown",
   "metadata": {},
   "source": [
    "### 3.2 За допомогою функції *randint*\n",
    "Реалізуйте симуляцію підкидань монетки за допомогою функції **randint**. Просимулюйте $100$ підкидань монетки та підрахуйте кількість кожної із сторін."
   ]
  },
  {
   "cell_type": "code",
   "execution_count": 37,
   "metadata": {},
   "outputs": [
    {
     "name": "stdout",
     "output_type": "stream",
     "text": [
      "52 heads and 48 tails\n"
     ]
    }
   ],
   "source": [
    "n = 100\n",
    "tosses = np.random.randint(low=0, high=2, size=n)\n",
    "heads = list(tosses).count(1)\n",
    "tails = list(tosses).count(0)\n",
    "print(\"{} heads and {} tails\".format(heads,tails))\n"
   ]
  },
  {
   "cell_type": "markdown",
   "metadata": {},
   "source": [
    "### 3.3 За допомогою функції *sample*\n",
    "Реалізуйте симуляцію підкидань монетки за допомогою функції **sample**. Просимулюйте $100$ підкидань монетки та підрахуйте кількість кожної із сторін."
   ]
  },
  {
   "cell_type": "code",
   "execution_count": 40,
   "metadata": {},
   "outputs": [
    {
     "name": "stdout",
     "output_type": "stream",
     "text": [
      "54 heads and 46 tails\n"
     ]
    }
   ],
   "source": [
    "n = 100\n",
    "tosses = np.random.sample(size=n)\n",
    "heads = tosses[tosses >= 0.5]\n",
    "tails = tosses[tosses < 0.5]\n",
    "print(\"{} heads and {} tails\".format(len(heads), len(tails)))\n"
   ]
  },
  {
   "cell_type": "markdown",
   "metadata": {},
   "source": [
    "### 3.4 Задача\n",
    "Знайдіть емпіричну ймовірність герба у симуляціях підкидання монетки $n = 10, 50, 100, 250, 500, 1000, 2500, 5000, 10000$ разів."
   ]
  },
  {
   "cell_type": "code",
   "execution_count": 49,
   "metadata": {},
   "outputs": [
    {
     "name": "stdout",
     "output_type": "stream",
     "text": [
      "For n = 10 probability of Head is 0.3\n",
      "For n = 50 probability of Head is 0.54\n",
      "For n = 100 probability of Head is 0.48\n",
      "For n = 250 probability of Head is 0.464\n",
      "For n = 500 probability of Head is 0.496\n",
      "For n = 1000 probability of Head is 0.478\n",
      "For n = 2500 probability of Head is 0.508\n",
      "For n = 5000 probability of Head is 0.5092\n",
      "For n = 10000 probability of Head is 0.4969\n"
     ]
    }
   ],
   "source": [
    "for n in (10,50,100,250,500,1000,2500,5000,10000):\n",
    "    tosses = np.random.randint(low=0, high=2, size=n)\n",
    "    heads = list(tosses).count(1) # Герб\n",
    "    tails = list(tosses).count(0)\n",
    "    print(\"For n = {} probability of Head is {}\".format(n,heads/n))"
   ]
  },
  {
   "cell_type": "markdown",
   "metadata": {},
   "source": [
    "## 4 Гральний кубик\n",
    "### 4.1 Реалізація симуляцій\n",
    "Реалізуйте симуляцію кидків грального кубика за допомогою функції **???**. Просимулюйте $60$ кидків кубика та підрахуйте кількість кожної із сторін."
   ]
  },
  {
   "cell_type": "code",
   "execution_count": 54,
   "metadata": {},
   "outputs": [
    {
     "name": "stdout",
     "output_type": "stream",
     "text": [
      "For side 1 got 5 flips.\n",
      "For side 2 got 16 flips.\n",
      "For side 3 got 7 flips.\n",
      "For side 4 got 11 flips.\n",
      "For side 5 got 10 flips.\n",
      "For side 6 got 11 flips.\n"
     ]
    }
   ],
   "source": [
    "sides = tuple(range(1, 7))\n",
    "n = 60\n",
    "tosses = np.random.randint(low=1, high=7, size=n)\n",
    "for side in sides:\n",
    "    print(\"For side {} got {} flips.\".format(side, list(tosses).count(side)))"
   ]
  },
  {
   "cell_type": "markdown",
   "metadata": {},
   "source": [
    "### 4.2 Задача\n",
    "Знайдіть емпіричну ймовірність кожної сторони у симуляціях кидання грального кубика $n = 10, 50, 100, 250, 500, 1000, 2500, 5000, 10000$ разів."
   ]
  },
  {
   "cell_type": "code",
   "execution_count": 55,
   "metadata": {},
   "outputs": [
    {
     "name": "stdout",
     "output_type": "stream",
     "text": [
      "N = 10\n",
      "\tFor side 1 probability is 0.0.\n",
      "\tFor side 2 probability is 0.2.\n",
      "\tFor side 3 probability is 0.2.\n",
      "\tFor side 4 probability is 0.1.\n",
      "\tFor side 5 probability is 0.3.\n",
      "\tFor side 6 probability is 0.2.\n",
      "N = 50\n",
      "\tFor side 1 probability is 0.18.\n",
      "\tFor side 2 probability is 0.18.\n",
      "\tFor side 3 probability is 0.18.\n",
      "\tFor side 4 probability is 0.2.\n",
      "\tFor side 5 probability is 0.1.\n",
      "\tFor side 6 probability is 0.16.\n",
      "N = 100\n",
      "\tFor side 1 probability is 0.23.\n",
      "\tFor side 2 probability is 0.18.\n",
      "\tFor side 3 probability is 0.16.\n",
      "\tFor side 4 probability is 0.11.\n",
      "\tFor side 5 probability is 0.14.\n",
      "\tFor side 6 probability is 0.18.\n",
      "N = 250\n",
      "\tFor side 1 probability is 0.124.\n",
      "\tFor side 2 probability is 0.16.\n",
      "\tFor side 3 probability is 0.136.\n",
      "\tFor side 4 probability is 0.192.\n",
      "\tFor side 5 probability is 0.172.\n",
      "\tFor side 6 probability is 0.216.\n",
      "N = 500\n",
      "\tFor side 1 probability is 0.16.\n",
      "\tFor side 2 probability is 0.152.\n",
      "\tFor side 3 probability is 0.196.\n",
      "\tFor side 4 probability is 0.17.\n",
      "\tFor side 5 probability is 0.15.\n",
      "\tFor side 6 probability is 0.172.\n",
      "N = 1000\n",
      "\tFor side 1 probability is 0.162.\n",
      "\tFor side 2 probability is 0.164.\n",
      "\tFor side 3 probability is 0.159.\n",
      "\tFor side 4 probability is 0.169.\n",
      "\tFor side 5 probability is 0.192.\n",
      "\tFor side 6 probability is 0.154.\n",
      "N = 2500\n",
      "\tFor side 1 probability is 0.154.\n",
      "\tFor side 2 probability is 0.1664.\n",
      "\tFor side 3 probability is 0.17.\n",
      "\tFor side 4 probability is 0.1704.\n",
      "\tFor side 5 probability is 0.1732.\n",
      "\tFor side 6 probability is 0.166.\n",
      "N = 5000\n",
      "\tFor side 1 probability is 0.1666.\n",
      "\tFor side 2 probability is 0.1718.\n",
      "\tFor side 3 probability is 0.1602.\n",
      "\tFor side 4 probability is 0.1768.\n",
      "\tFor side 5 probability is 0.1682.\n",
      "\tFor side 6 probability is 0.1564.\n",
      "N = 10000\n",
      "\tFor side 1 probability is 0.172.\n",
      "\tFor side 2 probability is 0.1643.\n",
      "\tFor side 3 probability is 0.1662.\n",
      "\tFor side 4 probability is 0.1604.\n",
      "\tFor side 5 probability is 0.1704.\n",
      "\tFor side 6 probability is 0.1667.\n"
     ]
    }
   ],
   "source": [
    "for n in (10,50,100,250,500,1000,2500,5000,10000):\n",
    "    print(\"N =\", n)\n",
    "    tosses = np.random.randint(low=1, high=7, size=n)\n",
    "    for side in sides:\n",
    "        print(\"\\tFor side {} probability is {}.\".format(side, list(tosses).count(side)/n))"
   ]
  },
  {
   "cell_type": "markdown",
   "metadata": {},
   "source": [
    "## 5 Колода карт\n",
    "### 5.1 Реалізація"
   ]
  },
  {
   "cell_type": "code",
   "execution_count": 59,
   "metadata": {},
   "outputs": [
    {
     "name": "stdout",
     "output_type": "stream",
     "text": [
      "[('1', '♠'), ('1', '♡'), ('1', '♢'), ('1', '♣'), ('10', '♠'), ('10', '♡'), ('10', '♢'), ('10', '♣'), ('2', '♠'), ('2', '♡'), ('2', '♢'), ('2', '♣'), ('3', '♠'), ('3', '♡'), ('3', '♢'), ('3', '♣'), ('4', '♠'), ('4', '♡'), ('4', '♢'), ('4', '♣'), ('5', '♠'), ('5', '♡'), ('5', '♢'), ('5', '♣'), ('6', '♠'), ('6', '♡'), ('6', '♢'), ('6', '♣'), ('7', '♠'), ('7', '♡'), ('7', '♢'), ('7', '♣'), ('8', '♠'), ('8', '♡'), ('8', '♢'), ('8', '♣'), ('9', '♠'), ('9', '♡'), ('9', '♢'), ('9', '♣'), ('J', '♠'), ('J', '♡'), ('J', '♢'), ('J', '♣'), ('K', '♠'), ('K', '♡'), ('K', '♢'), ('K', '♣'), ('Q', '♠'), ('Q', '♡'), ('Q', '♢'), ('Q', '♣')]\n"
     ]
    }
   ],
   "source": [
    "# Визначимо номінали, масті та карти\n",
    "Ranks = {'1', '2', '3', '4', '5', '6', '7', '8', '9', '10', 'J', 'Q', 'K'}\n",
    "Suits = {'♢', '♠', '♣', '♡'}\n",
    "# Створимо колоду карт\n",
    "Cards = sorted([(Rank, Suit) for Rank in Ranks for Suit in Suits])\n",
    "print(Cards)"
   ]
  },
  {
   "cell_type": "code",
   "execution_count": 60,
   "metadata": {},
   "outputs": [
    {
     "name": "stdout",
     "output_type": "stream",
     "text": [
      "1♠, 1♡, 1♢, 1♣, 10♠, 10♡, 10♢, 10♣, 2♠, 2♡, 2♢, 2♣, 3♠, 3♡, 3♢, 3♣, 4♠, 4♡, 4♢, 4♣, 5♠, 5♡, 5♢, 5♣, 6♠, 6♡, 6♢, 6♣, 7♠, 7♡, 7♢, 7♣, 8♠, 8♡, 8♢, 8♣, 9♠, 9♡, 9♢, 9♣, J♠, J♡, J♢, J♣, K♠, K♡, K♢, K♣, Q♠, Q♡, Q♢, Q♣\n"
     ]
    }
   ],
   "source": [
    "# Інший вівід результату\n",
    "print(', '.join([(card[0] + card[1]) for card in Cards]))"
   ]
  },
  {
   "cell_type": "code",
   "execution_count": 61,
   "metadata": {},
   "outputs": [
    {
     "name": "stdout",
     "output_type": "stream",
     "text": [
      "♣10, ♣5, ♣K, ♣9, ♣4, ♣8, ♣2, ♣6, ♣3, ♣J, ♣Q, ♣1, ♣7\n",
      "♠10, ♠5, ♠K, ♠9, ♠4, ♠8, ♠2, ♠6, ♠3, ♠J, ♠Q, ♠1, ♠7\n",
      "♢10, ♢5, ♢K, ♢9, ♢4, ♢8, ♢2, ♢6, ♢3, ♢J, ♢Q, ♢1, ♢7\n",
      "♡10, ♡5, ♡K, ♡9, ♡4, ♡8, ♡2, ♡6, ♡3, ♡J, ♡Q, ♡1, ♡7\n"
     ]
    }
   ],
   "source": [
    "# Або згрупувавши по мастях\n",
    "for suit in Suits:\n",
    "    print(\", \".join([(suit+rank) for rank in Ranks]))"
   ]
  },
  {
   "cell_type": "code",
   "execution_count": 62,
   "metadata": {},
   "outputs": [
    {
     "name": "stdout",
     "output_type": "stream",
     "text": [
      "[('4', '♣'), ('Q', '♡'), ('10', '♠'), ('K', '♣'), ('8', '♣'), ('J', '♠'), ('9', '♠'), ('10', '♣'), ('J', '♣'), ('8', '♢'), ('2', '♣'), ('8', '♡'), ('4', '♢'), ('10', '♡'), ('Q', '♠'), ('Q', '♢'), ('5', '♡'), ('K', '♢'), ('7', '♠'), ('3', '♡'), ('3', '♠'), ('1', '♡'), ('Q', '♣'), ('1', '♣'), ('3', '♢'), ('5', '♣'), ('1', '♢'), ('7', '♣'), ('J', '♢'), ('5', '♠'), ('9', '♣'), ('3', '♣'), ('K', '♡'), ('5', '♢'), ('6', '♣'), ('2', '♠'), ('4', '♡'), ('6', '♡'), ('J', '♡'), ('9', '♡'), ('6', '♢'), ('7', '♢'), ('7', '♡'), ('8', '♠'), ('4', '♠'), ('10', '♢'), ('1', '♠'), ('K', '♠'), ('2', '♡'), ('9', '♢'), ('6', '♠'), ('2', '♢')]\n"
     ]
    }
   ],
   "source": [
    "# Перемішаємо колоду\n",
    "np.random.shuffle(Cards)\n",
    "\n",
    "print(Cards)"
   ]
  },
  {
   "cell_type": "markdown",
   "metadata": {},
   "source": [
    "### 5.2 Задача\n",
    "Знайдіть емпіричну ймовірність карти парного числа (2, 4, 6, 8, 10) у симуляціях вибору однієї карти з колоди 52 карт $n = 10, 50, 100, 250, 500, 1000, 2500, 5000, 10000$ разів."
   ]
  },
  {
   "cell_type": "code",
   "execution_count": 98,
   "metadata": {},
   "outputs": [
    {
     "name": "stdout",
     "output_type": "stream",
     "text": [
      "For n = 10 probability of showing card with even number is 0.1\n",
      "For n = 50 probability of showing card with even number is 0.44\n",
      "For n = 100 probability of showing card with even number is 0.42\n",
      "For n = 250 probability of showing card with even number is 0.368\n",
      "For n = 500 probability of showing card with even number is 0.384\n",
      "For n = 1000 probability of showing card with even number is 0.397\n",
      "For n = 2500 probability of showing card with even number is 0.3912\n",
      "For n = 5000 probability of showing card with even number is 0.3742\n",
      "For n = 10000 probability of showing card with even number is 0.3799\n"
     ]
    }
   ],
   "source": [
    "def check(a):\n",
    "    target = ['2', '4', '6', '8', '10']\n",
    "    return a[0] in target\n",
    "cards = np.array(Cards)\n",
    "for n in (10,50,100,250,500,1000,2500,5000,10000):\n",
    "    choices = np.random.choice(list(range(len(Cards))), size=n)\n",
    "    sad = cards[choices]\n",
    "    sad = sad[np.apply_along_axis(check, 1, sad)]\n",
    "    print('For n = {} probability of showing card with even number is {}'.format(n, len(sad)/n))"
   ]
  },
  {
   "cell_type": "markdown",
   "metadata": {},
   "source": [
    "### 5.3 Задача\n",
    "Випадковим чином роздайте колоду з 52 карт чотирьом гравцям (кожному по 13 карт) так, щоб кожен з них мав 4 карти однієї масті та по 3 карти інших мастей. Наприклад, {♣5, ♣10, ♣8, ♣4, ♠4, ♠J, ♠3, ♢Q, ♢7, ♢K, ♡9, ♡1, ♡5}."
   ]
  },
  {
   "cell_type": "code",
   "execution_count": null,
   "metadata": {},
   "outputs": [],
   "source": [
    "from itertools import cycle\n",
    "\n",
    "list(cycle([1, 2, 3]))"
   ]
  },
  {
   "cell_type": "code",
   "execution_count": 116,
   "metadata": {},
   "outputs": [
    {
     "name": "stdout",
     "output_type": "stream",
     "text": [
      "['♣', '♠', '♢', '♡']\n",
      "['♠', '♡', '♣', '♢']\n"
     ]
    }
   ],
   "source": [
    "\n",
    "hands = list()\n",
    "suits = list(Suits)\n",
    "ranks = list(Ranks)\n",
    "np.random.shuffle(suits)\n",
    "np.random.shuffle(ranks)\n",
    "for suit in suits:\n",
    "    for j in (4, 3, 3, 3):\n",
    "        "
   ]
  },
  {
   "cell_type": "markdown",
   "metadata": {},
   "source": [
    "### 5.4 Задача\n",
    "Випадковим чином роздайте колоду з 52 карт чотирьом гравцям (кожному по 13 карт) так, щоб кожен з них мав від 2 до 5 карт кожної масті. Наприклад, {♣5, ♣10, ♣8, ♣4, ♠4, ♠J, ♠3, ♢Q, ♣7, ♢K, ♡9, ♡1, ♡5}."
   ]
  },
  {
   "cell_type": "code",
   "execution_count": 36,
   "metadata": {
    "collapsed": true
   },
   "outputs": [],
   "source": [
    "# Місце для Вашого коду\n",
    "\n"
   ]
  }
 ],
 "metadata": {
  "kernelspec": {
   "display_name": "Python 3",
   "language": "python",
   "name": "python3"
  },
  "language_info": {
   "codemirror_mode": {
    "name": "ipython",
    "version": 3
   },
   "file_extension": ".py",
   "mimetype": "text/x-python",
   "name": "python",
   "nbconvert_exporter": "python",
   "pygments_lexer": "ipython3",
   "version": "3.6.5"
  }
 },
 "nbformat": 4,
 "nbformat_minor": 1
}
