{
 "cells": [
  {
   "cell_type": "markdown",
   "metadata": {},
   "source": [
    "# Лабораторне заняття №2\n",
    "Знайомство з бібліотекою **NumPy**."
   ]
  },
  {
   "cell_type": "code",
   "execution_count": 1,
   "metadata": {},
   "outputs": [],
   "source": [
    "import numpy as np"
   ]
  },
  {
   "cell_type": "markdown",
   "metadata": {},
   "source": [
    "## 1 Огляд функцій випадкового вибору"
   ]
  },
  {
   "cell_type": "markdown",
   "metadata": {},
   "source": [
    "### 1.1 Функція *choice*\n",
    "Для детальної інформації див. [документацію](https://docs.scipy.org/doc/numpy-1.14.1/reference/generated/numpy.random.choice.html)."
   ]
  },
  {
   "cell_type": "code",
   "execution_count": 2,
   "metadata": {},
   "outputs": [
    {
     "name": "stdout",
     "output_type": "stream",
     "text": [
      "['top' '4.5' '2' '4.5' '4.5' '4.5' 'top' 'top' '4.5' 'top']\n"
     ]
    }
   ],
   "source": [
    "a = [\"top\", 2, \"bottom\", 4.5]\n",
    "size = 10\n",
    "probs = [0.4, 0.2, 0.1, 0.3]\n",
    "replace = True\n",
    "print(np.random.choice(a, size=size, replace=replace, p=probs))"
   ]
  },
  {
   "cell_type": "markdown",
   "metadata": {},
   "source": [
    "Згенеруйте одну випадкову цифру, вважаючи їх рівноймовірними."
   ]
  },
  {
   "cell_type": "code",
   "execution_count": 3,
   "metadata": {},
   "outputs": [
    {
     "name": "stdout",
     "output_type": "stream",
     "text": [
      "4\n"
     ]
    }
   ],
   "source": [
    "print(np.random.choice(list(range(10))))"
   ]
  },
  {
   "cell_type": "markdown",
   "metadata": {},
   "source": [
    "Згенеруйте випадкову матрицю $4 \\times 6$ із рівноймовірних цифр."
   ]
  },
  {
   "cell_type": "code",
   "execution_count": 4,
   "metadata": {},
   "outputs": [
    {
     "name": "stdout",
     "output_type": "stream",
     "text": [
      "[[7 4 0 5 5 5]\n",
      " [2 0 7 0 5 0]\n",
      " [3 9 3 0 8 3]\n",
      " [8 5 5 1 5 2]]\n"
     ]
    }
   ],
   "source": [
    "print(np.random.choice(list(range(10)), size=(4, 6)))"
   ]
  },
  {
   "cell_type": "markdown",
   "metadata": {},
   "source": [
    "### 1.2 Функція *randint*\n",
    "Для детальної інформації див. [документацію](https://docs.scipy.org/doc/numpy-1.14.1/reference/generated/numpy.random.randint.html)."
   ]
  },
  {
   "cell_type": "code",
   "execution_count": 5,
   "metadata": {},
   "outputs": [
    {
     "name": "stdout",
     "output_type": "stream",
     "text": [
      "[4 4 2 4 2 0 1 4 3 3]\n"
     ]
    }
   ],
   "source": [
    "low = 0\n",
    "high = 5\n",
    "size = 10\n",
    "print(np.random.randint(low=low, high=high, size=size))"
   ]
  },
  {
   "cell_type": "markdown",
   "metadata": {},
   "source": [
    "Згенеруйте одну випадкову цифру."
   ]
  },
  {
   "cell_type": "code",
   "execution_count": 6,
   "metadata": {},
   "outputs": [
    {
     "name": "stdout",
     "output_type": "stream",
     "text": [
      "7\n"
     ]
    }
   ],
   "source": [
    "print(np.random.randint(low=0, high=10))"
   ]
  },
  {
   "cell_type": "markdown",
   "metadata": {},
   "source": [
    "Згенеруйте випадкову матрицю $4 \\times 5$ із двоцифрових чисел."
   ]
  },
  {
   "cell_type": "code",
   "execution_count": 7,
   "metadata": {},
   "outputs": [
    {
     "name": "stdout",
     "output_type": "stream",
     "text": [
      "[[58 15 13 44 50]\n",
      " [33 70 20 79 96]\n",
      " [26 52 62 80 91]\n",
      " [74 55 38 28 15]]\n"
     ]
    }
   ],
   "source": [
    "print(np.random.randint(low=10, high=100, size=(4, 5)))"
   ]
  },
  {
   "cell_type": "markdown",
   "metadata": {},
   "source": [
    "### 1.3 Функція *sample*\n",
    "Для детальної інформації див. [документацію](https://docs.scipy.org/doc/numpy-1.14.1/reference/generated/numpy.random.sample.html)."
   ]
  },
  {
   "cell_type": "code",
   "execution_count": 8,
   "metadata": {},
   "outputs": [
    {
     "name": "stdout",
     "output_type": "stream",
     "text": [
      "0.42204342396951167\n"
     ]
    }
   ],
   "source": [
    "size = None\n",
    "print(np.random.sample(size=size))"
   ]
  },
  {
   "cell_type": "markdown",
   "metadata": {},
   "source": [
    "Згенеруйте випадкову матрицю $3 \\times 4$ із чисел з інтервалу $[0, 1)$."
   ]
  },
  {
   "cell_type": "code",
   "execution_count": 9,
   "metadata": {},
   "outputs": [
    {
     "name": "stdout",
     "output_type": "stream",
     "text": [
      "[[0.16549228 0.04306409 0.24346688 0.40949558]\n",
      " [0.52233895 0.11073429 0.68112505 0.43651275]\n",
      " [0.60468691 0.53459534 0.85092565 0.45270897]]\n"
     ]
    }
   ],
   "source": [
    "print(np.random.sample(size=(3, 4)))"
   ]
  },
  {
   "cell_type": "markdown",
   "metadata": {},
   "source": [
    "Згенеруйте 10 випадкових чисел з інтервалу $[a, b)$."
   ]
  },
  {
   "cell_type": "code",
   "execution_count": 10,
   "metadata": {},
   "outputs": [],
   "source": [
    "a = 3\n",
    "b = 5"
   ]
  },
  {
   "cell_type": "code",
   "execution_count": 11,
   "metadata": {},
   "outputs": [
    {
     "name": "stdout",
     "output_type": "stream",
     "text": [
      "[0.65942206 0.84926427 0.65287962 0.01008213 0.20810096 0.70175752\n",
      " 0.39867539 0.20082389 0.97945792 0.68382186]\n"
     ]
    }
   ],
   "source": [
    "print(np.random.sample(size=10))"
   ]
  },
  {
   "cell_type": "markdown",
   "metadata": {},
   "source": [
    "### 1.4 Функція *shuffle*\n",
    "Для детальної інформації див. [документацію](https://docs.scipy.org/doc/numpy-1.14.1/reference/generated/numpy.random.shuffle.html)."
   ]
  },
  {
   "cell_type": "code",
   "execution_count": 12,
   "metadata": {},
   "outputs": [
    {
     "name": "stdout",
     "output_type": "stream",
     "text": [
      "[4 6 5 7 1 0 8 3 9 2]\n"
     ]
    }
   ],
   "source": [
    "x = np.arange(10)\n",
    "np.random.shuffle(x)\n",
    "print(x)"
   ]
  },
  {
   "cell_type": "markdown",
   "metadata": {},
   "source": [
    "Перетасуйте матрицю $M$."
   ]
  },
  {
   "cell_type": "code",
   "execution_count": 13,
   "metadata": {},
   "outputs": [
    {
     "name": "stdout",
     "output_type": "stream",
     "text": [
      "[[ 0  1  2  3  4]\n",
      " [ 5  6  7  8  9]\n",
      " [10 11 12 13 14]\n",
      " [15 16 17 18 19]]\n"
     ]
    }
   ],
   "source": [
    "M = np.arange(20).reshape((4, 5))\n",
    "print(M)"
   ]
  },
  {
   "cell_type": "code",
   "execution_count": 14,
   "metadata": {},
   "outputs": [
    {
     "name": "stdout",
     "output_type": "stream",
     "text": [
      "[[10 11 12 13 14]\n",
      " [ 0  1  2  3  4]\n",
      " [ 5  6  7  8  9]\n",
      " [15 16 17 18 19]]\n"
     ]
    }
   ],
   "source": [
    "np.random.shuffle(M)\n",
    "print(M)"
   ]
  },
  {
   "cell_type": "code",
   "execution_count": 15,
   "metadata": {},
   "outputs": [
    {
     "name": "stdout",
     "output_type": "stream",
     "text": [
      "[[ 5  7  2  4 19]\n",
      " [15 13  6  9  3]\n",
      " [11  1  8 10 14]\n",
      " [ 0 16 12 18 17]]\n"
     ]
    }
   ],
   "source": [
    "# або \n",
    "M = M.flatten()\n",
    "np.random.shuffle(M)\n",
    "M = M.reshape((4, 5))\n",
    "print(M)"
   ]
  },
  {
   "cell_type": "markdown",
   "metadata": {},
   "source": [
    "## 2 Відтворюваність результатів\n",
    "Можна задати початкове значення для генератора. Це зафіксує \"випадкову\" послідовність."
   ]
  },
  {
   "cell_type": "code",
   "execution_count": 16,
   "metadata": {},
   "outputs": [],
   "source": [
    "np.random.seed(42)"
   ]
  },
  {
   "cell_type": "code",
   "execution_count": 17,
   "metadata": {},
   "outputs": [
    {
     "name": "stdout",
     "output_type": "stream",
     "text": [
      "6\n"
     ]
    }
   ],
   "source": [
    "print(np.random.randint(10))"
   ]
  },
  {
   "cell_type": "code",
   "execution_count": 18,
   "metadata": {},
   "outputs": [
    {
     "name": "stdout",
     "output_type": "stream",
     "text": [
      "3\n"
     ]
    }
   ],
   "source": [
    "print(np.random.randint(10))"
   ]
  },
  {
   "cell_type": "code",
   "execution_count": 19,
   "metadata": {},
   "outputs": [
    {
     "name": "stdout",
     "output_type": "stream",
     "text": [
      "6\n",
      "3\n"
     ]
    }
   ],
   "source": [
    "np.random.seed(42)\n",
    "print(np.random.randint(10))\n",
    "print(np.random.randint(10))"
   ]
  },
  {
   "cell_type": "code",
   "execution_count": 20,
   "metadata": {},
   "outputs": [
    {
     "name": "stdout",
     "output_type": "stream",
     "text": [
      "[6 3 7 4 6 9 2 6 7 4]\n",
      "['l' 'l' 'l' 'b' 'r' 't' 'r' 'l' 'l' 'r']\n",
      "[6 3 7 4 6 9 2 6 7 4]\n",
      "['l' 'l' 'l' 'b' 'r' 't' 'r' 'l' 'l' 'r']\n"
     ]
    }
   ],
   "source": [
    "np.random.seed(42)\n",
    "print(np.random.randint(10, size=10))\n",
    "print(np.random.choice(['t', 'r', 'b', 'l'], size=10))\n",
    "np.random.seed(42)\n",
    "print(np.random.randint(10, size=10))\n",
    "print(np.random.choice(['t', 'r', 'b', 'l'], size=10))"
   ]
  },
  {
   "cell_type": "markdown",
   "metadata": {},
   "source": [
    "## 3 Монетка"
   ]
  },
  {
   "cell_type": "markdown",
   "metadata": {},
   "source": [
    "### 3.1 За допомогою функції *choice*"
   ]
  },
  {
   "cell_type": "code",
   "execution_count": 21,
   "metadata": {},
   "outputs": [
    {
     "name": "stdout",
     "output_type": "stream",
     "text": [
      "['H' 'H' 'H' 'H' 'T' 'H' 'H' 'T' 'H' 'H']\n"
     ]
    }
   ],
   "source": [
    "p=0.5\n",
    "n=10\n",
    "tosses=np.random.choice([\"H\",\"T\"],p=[p,1-p], size=n)\n",
    "print(tosses)"
   ]
  },
  {
   "cell_type": "code",
   "execution_count": 22,
   "metadata": {},
   "outputs": [
    {
     "name": "stdout",
     "output_type": "stream",
     "text": [
      "8 heads and 2 tails\n"
     ]
    }
   ],
   "source": [
    "heads = list(tosses).count(\"H\")\n",
    "tails = list(tosses).count(\"T\")\n",
    "\n",
    "print(\"{} heads and {} tails\".format(heads,tails))"
   ]
  },
  {
   "cell_type": "markdown",
   "metadata": {},
   "source": [
    "Просимулюйте $100$ підкидань монетки та підрахуйте кількість кожної із сторін."
   ]
  },
  {
   "cell_type": "code",
   "execution_count": 23,
   "metadata": {},
   "outputs": [
    {
     "name": "stdout",
     "output_type": "stream",
     "text": [
      "50 heads and 50 tails\n"
     ]
    }
   ],
   "source": [
    "p=0.5\n",
    "n=100\n",
    "tosses=np.random.choice([\"H\",\"T\"],p=[p,1-p], size=n)\n",
    "heads = list(tosses).count(\"H\")\n",
    "tails = list(tosses).count(\"T\")\n",
    "print(\"{} heads and {} tails\".format(heads,tails))"
   ]
  },
  {
   "cell_type": "markdown",
   "metadata": {},
   "source": [
    "### 3.2 За допомогою функції *randint*\n",
    "Реалізуйте симуляцію підкидань монетки за допомогою функції **randint**. Просимулюйте $100$ підкидань монетки та підрахуйте кількість кожної із сторін."
   ]
  },
  {
   "cell_type": "code",
   "execution_count": 24,
   "metadata": {},
   "outputs": [
    {
     "name": "stdout",
     "output_type": "stream",
     "text": [
      "49 heads and 51 tails\n"
     ]
    }
   ],
   "source": [
    "n = 100\n",
    "tosses = np.random.randint(low=0, high=2, size=n)\n",
    "heads = list(tosses).count(1)\n",
    "tails = list(tosses).count(0)\n",
    "print(\"{} heads and {} tails\".format(heads,tails))\n"
   ]
  },
  {
   "cell_type": "markdown",
   "metadata": {},
   "source": [
    "### 3.3 За допомогою функції *sample*\n",
    "Реалізуйте симуляцію підкидань монетки за допомогою функції **sample**. Просимулюйте $100$ підкидань монетки та підрахуйте кількість кожної із сторін."
   ]
  },
  {
   "cell_type": "code",
   "execution_count": 25,
   "metadata": {},
   "outputs": [
    {
     "name": "stdout",
     "output_type": "stream",
     "text": [
      "59 heads and 41 tails\n"
     ]
    }
   ],
   "source": [
    "n = 100\n",
    "tosses = np.random.sample(size=n)\n",
    "heads = tosses[tosses >= 0.5]\n",
    "tails = tosses[tosses < 0.5]\n",
    "print(\"{} heads and {} tails\".format(len(heads), len(tails)))\n"
   ]
  },
  {
   "cell_type": "markdown",
   "metadata": {},
   "source": [
    "### 3.4 Задача\n",
    "Знайдіть емпіричну ймовірність герба у симуляціях підкидання монетки $n = 10, 50, 100, 250, 500, 1000, 2500, 5000, 10000$ разів."
   ]
  },
  {
   "cell_type": "code",
   "execution_count": 26,
   "metadata": {},
   "outputs": [
    {
     "name": "stdout",
     "output_type": "stream",
     "text": [
      "For n = 10 probability of Head is 0.5\n",
      "For n = 50 probability of Head is 0.6\n",
      "For n = 100 probability of Head is 0.54\n",
      "For n = 250 probability of Head is 0.452\n",
      "For n = 500 probability of Head is 0.492\n",
      "For n = 1000 probability of Head is 0.473\n",
      "For n = 2500 probability of Head is 0.5084\n",
      "For n = 5000 probability of Head is 0.497\n",
      "For n = 10000 probability of Head is 0.5003\n"
     ]
    }
   ],
   "source": [
    "for n in (10,50,100,250,500,1000,2500,5000,10000):\n",
    "    tosses = np.random.randint(low=0, high=2, size=n)\n",
    "    heads = list(tosses).count(1) # Герб\n",
    "    tails = list(tosses).count(0)\n",
    "    print(\"For n = {} probability of Head is {}\".format(n,heads/n))"
   ]
  },
  {
   "cell_type": "markdown",
   "metadata": {},
   "source": [
    "## 4 Гральний кубик\n",
    "### 4.1 Реалізація симуляцій\n",
    "Реалізуйте симуляцію кидків грального кубика за допомогою функції **???**. Просимулюйте $60$ кидків кубика та підрахуйте кількість кожної із сторін."
   ]
  },
  {
   "cell_type": "code",
   "execution_count": 27,
   "metadata": {},
   "outputs": [
    {
     "name": "stdout",
     "output_type": "stream",
     "text": [
      "For side 1 got 11 flips.\n",
      "For side 2 got 6 flips.\n",
      "For side 3 got 13 flips.\n",
      "For side 4 got 8 flips.\n",
      "For side 5 got 6 flips.\n",
      "For side 6 got 16 flips.\n"
     ]
    }
   ],
   "source": [
    "sides = tuple(range(1, 7))\n",
    "n = 60\n",
    "tosses = np.random.randint(low=1, high=7, size=n)\n",
    "for side in sides:\n",
    "    print(\"For side {} got {} flips.\".format(side, list(tosses).count(side)))"
   ]
  },
  {
   "cell_type": "markdown",
   "metadata": {},
   "source": [
    "### 4.2 Задача\n",
    "Знайдіть емпіричну ймовірність кожної сторони у симуляціях кидання грального кубика $n = 10, 50, 100, 250, 500, 1000, 2500, 5000, 10000$ разів."
   ]
  },
  {
   "cell_type": "code",
   "execution_count": 28,
   "metadata": {},
   "outputs": [
    {
     "name": "stdout",
     "output_type": "stream",
     "text": [
      "N = 10\n",
      "\tFor side 1 probability is 0.2.\n",
      "\tFor side 2 probability is 0.1.\n",
      "\tFor side 3 probability is 0.2.\n",
      "\tFor side 4 probability is 0.2.\n",
      "\tFor side 5 probability is 0.2.\n",
      "\tFor side 6 probability is 0.1.\n",
      "N = 50\n",
      "\tFor side 1 probability is 0.16.\n",
      "\tFor side 2 probability is 0.14.\n",
      "\tFor side 3 probability is 0.2.\n",
      "\tFor side 4 probability is 0.18.\n",
      "\tFor side 5 probability is 0.2.\n",
      "\tFor side 6 probability is 0.12.\n",
      "N = 100\n",
      "\tFor side 1 probability is 0.19.\n",
      "\tFor side 2 probability is 0.16.\n",
      "\tFor side 3 probability is 0.15.\n",
      "\tFor side 4 probability is 0.17.\n",
      "\tFor side 5 probability is 0.1.\n",
      "\tFor side 6 probability is 0.23.\n",
      "N = 250\n",
      "\tFor side 1 probability is 0.16.\n",
      "\tFor side 2 probability is 0.148.\n",
      "\tFor side 3 probability is 0.164.\n",
      "\tFor side 4 probability is 0.2.\n",
      "\tFor side 5 probability is 0.196.\n",
      "\tFor side 6 probability is 0.132.\n",
      "N = 500\n",
      "\tFor side 1 probability is 0.164.\n",
      "\tFor side 2 probability is 0.158.\n",
      "\tFor side 3 probability is 0.15.\n",
      "\tFor side 4 probability is 0.18.\n",
      "\tFor side 5 probability is 0.14.\n",
      "\tFor side 6 probability is 0.208.\n",
      "N = 1000\n",
      "\tFor side 1 probability is 0.154.\n",
      "\tFor side 2 probability is 0.184.\n",
      "\tFor side 3 probability is 0.163.\n",
      "\tFor side 4 probability is 0.161.\n",
      "\tFor side 5 probability is 0.167.\n",
      "\tFor side 6 probability is 0.171.\n",
      "N = 2500\n",
      "\tFor side 1 probability is 0.1708.\n",
      "\tFor side 2 probability is 0.1672.\n",
      "\tFor side 3 probability is 0.1576.\n",
      "\tFor side 4 probability is 0.17.\n",
      "\tFor side 5 probability is 0.1696.\n",
      "\tFor side 6 probability is 0.1648.\n",
      "N = 5000\n",
      "\tFor side 1 probability is 0.1724.\n",
      "\tFor side 2 probability is 0.1774.\n",
      "\tFor side 3 probability is 0.1614.\n",
      "\tFor side 4 probability is 0.1588.\n",
      "\tFor side 5 probability is 0.1616.\n",
      "\tFor side 6 probability is 0.1684.\n",
      "N = 10000\n",
      "\tFor side 1 probability is 0.1631.\n",
      "\tFor side 2 probability is 0.1609.\n",
      "\tFor side 3 probability is 0.1628.\n",
      "\tFor side 4 probability is 0.1738.\n",
      "\tFor side 5 probability is 0.1764.\n",
      "\tFor side 6 probability is 0.163.\n"
     ]
    }
   ],
   "source": [
    "for n in (10,50,100,250,500,1000,2500,5000,10000):\n",
    "    print(\"N =\", n)\n",
    "    tosses = np.random.randint(low=1, high=7, size=n)\n",
    "    for side in sides:\n",
    "        print(\"\\tFor side {} probability is {}.\".format(side, list(tosses).count(side)/n))"
   ]
  },
  {
   "cell_type": "markdown",
   "metadata": {},
   "source": [
    "## 5 Колода карт\n",
    "### 5.1 Реалізація"
   ]
  },
  {
   "cell_type": "code",
   "execution_count": 29,
   "metadata": {},
   "outputs": [
    {
     "name": "stdout",
     "output_type": "stream",
     "text": [
      "[('1', '♠'), ('1', '♡'), ('1', '♢'), ('1', '♣'), ('10', '♠'), ('10', '♡'), ('10', '♢'), ('10', '♣'), ('2', '♠'), ('2', '♡'), ('2', '♢'), ('2', '♣'), ('3', '♠'), ('3', '♡'), ('3', '♢'), ('3', '♣'), ('4', '♠'), ('4', '♡'), ('4', '♢'), ('4', '♣'), ('5', '♠'), ('5', '♡'), ('5', '♢'), ('5', '♣'), ('6', '♠'), ('6', '♡'), ('6', '♢'), ('6', '♣'), ('7', '♠'), ('7', '♡'), ('7', '♢'), ('7', '♣'), ('8', '♠'), ('8', '♡'), ('8', '♢'), ('8', '♣'), ('9', '♠'), ('9', '♡'), ('9', '♢'), ('9', '♣'), ('J', '♠'), ('J', '♡'), ('J', '♢'), ('J', '♣'), ('K', '♠'), ('K', '♡'), ('K', '♢'), ('K', '♣'), ('Q', '♠'), ('Q', '♡'), ('Q', '♢'), ('Q', '♣')]\n"
     ]
    }
   ],
   "source": [
    "# Визначимо номінали, масті та карти\n",
    "Ranks = {'1', '2', '3', '4', '5', '6', '7', '8', '9', '10', 'J', 'Q', 'K'}\n",
    "Suits = {'♢', '♠', '♣', '♡'}\n",
    "# Створимо колоду карт\n",
    "Cards = sorted([(Rank, Suit) for Rank in Ranks for Suit in Suits])\n",
    "print(Cards)"
   ]
  },
  {
   "cell_type": "code",
   "execution_count": 30,
   "metadata": {},
   "outputs": [
    {
     "name": "stdout",
     "output_type": "stream",
     "text": [
      "1♠, 1♡, 1♢, 1♣, 10♠, 10♡, 10♢, 10♣, 2♠, 2♡, 2♢, 2♣, 3♠, 3♡, 3♢, 3♣, 4♠, 4♡, 4♢, 4♣, 5♠, 5♡, 5♢, 5♣, 6♠, 6♡, 6♢, 6♣, 7♠, 7♡, 7♢, 7♣, 8♠, 8♡, 8♢, 8♣, 9♠, 9♡, 9♢, 9♣, J♠, J♡, J♢, J♣, K♠, K♡, K♢, K♣, Q♠, Q♡, Q♢, Q♣\n"
     ]
    }
   ],
   "source": [
    "# Інший вівід результату\n",
    "print(', '.join([(card[0] + card[1]) for card in Cards]))"
   ]
  },
  {
   "cell_type": "code",
   "execution_count": 31,
   "metadata": {},
   "outputs": [
    {
     "name": "stdout",
     "output_type": "stream",
     "text": [
      "♠2, ♠6, ♠8, ♠10, ♠K, ♠4, ♠3, ♠7, ♠Q, ♠1, ♠J, ♠9, ♠5\n",
      "♡2, ♡6, ♡8, ♡10, ♡K, ♡4, ♡3, ♡7, ♡Q, ♡1, ♡J, ♡9, ♡5\n",
      "♢2, ♢6, ♢8, ♢10, ♢K, ♢4, ♢3, ♢7, ♢Q, ♢1, ♢J, ♢9, ♢5\n",
      "♣2, ♣6, ♣8, ♣10, ♣K, ♣4, ♣3, ♣7, ♣Q, ♣1, ♣J, ♣9, ♣5\n"
     ]
    }
   ],
   "source": [
    "# Або згрупувавши по мастях\n",
    "for suit in Suits:\n",
    "    print(\", \".join([(suit+rank) for rank in Ranks]))"
   ]
  },
  {
   "cell_type": "code",
   "execution_count": 32,
   "metadata": {},
   "outputs": [
    {
     "name": "stdout",
     "output_type": "stream",
     "text": [
      "[('Q', '♡'), ('8', '♡'), ('3', '♡'), ('5', '♡'), ('K', '♢'), ('4', '♣'), ('8', '♣'), ('K', '♣'), ('10', '♡'), ('6', '♢'), ('K', '♡'), ('4', '♠'), ('1', '♡'), ('6', '♣'), ('3', '♠'), ('Q', '♣'), ('8', '♢'), ('2', '♠'), ('1', '♢'), ('J', '♣'), ('J', '♡'), ('2', '♣'), ('2', '♢'), ('3', '♣'), ('7', '♣'), ('2', '♡'), ('4', '♢'), ('3', '♢'), ('9', '♠'), ('8', '♠'), ('6', '♡'), ('Q', '♢'), ('10', '♣'), ('4', '♡'), ('7', '♡'), ('J', '♢'), ('K', '♠'), ('10', '♠'), ('9', '♡'), ('7', '♢'), ('6', '♠'), ('J', '♠'), ('1', '♠'), ('Q', '♠'), ('9', '♣'), ('5', '♢'), ('10', '♢'), ('9', '♢'), ('5', '♠'), ('1', '♣'), ('5', '♣'), ('7', '♠')]\n"
     ]
    }
   ],
   "source": [
    "# Перемішаємо колоду\n",
    "np.random.shuffle(Cards)\n",
    "\n",
    "print(Cards)"
   ]
  },
  {
   "cell_type": "markdown",
   "metadata": {},
   "source": [
    "### 5.2 Задача\n",
    "Знайдіть емпіричну ймовірність карти парного числа (2, 4, 6, 8, 10) у симуляціях вибору однієї карти з колоди 52 карт $n = 10, 50, 100, 250, 500, 1000, 2500, 5000, 10000$ разів."
   ]
  },
  {
   "cell_type": "code",
   "execution_count": 33,
   "metadata": {},
   "outputs": [
    {
     "name": "stdout",
     "output_type": "stream",
     "text": [
      "For n = 10 probability of showing card with even number is 0.4\n",
      "For n = 50 probability of showing card with even number is 0.48\n",
      "For n = 100 probability of showing card with even number is 0.28\n",
      "For n = 250 probability of showing card with even number is 0.352\n",
      "For n = 500 probability of showing card with even number is 0.37\n",
      "For n = 1000 probability of showing card with even number is 0.35\n",
      "For n = 2500 probability of showing card with even number is 0.386\n",
      "For n = 5000 probability of showing card with even number is 0.393\n",
      "For n = 10000 probability of showing card with even number is 0.3906\n"
     ]
    }
   ],
   "source": [
    "def check(a):\n",
    "    target = ['2', '4', '6', '8', '10']\n",
    "    return a[0] in target\n",
    "cards = np.array(Cards)\n",
    "for n in (10,50,100,250,500,1000,2500,5000,10000):\n",
    "    choices = np.random.choice(list(range(len(Cards))), size=n)\n",
    "    sad = cards[choices]\n",
    "    sad = sad[np.apply_along_axis(check, 1, sad)]\n",
    "    print('For n = {} probability of showing card with even number is {}'.format(n, len(sad)/n))"
   ]
  },
  {
   "cell_type": "markdown",
   "metadata": {},
   "source": [
    "### 5.3 Задача\n",
    "Випадковим чином роздайте колоду з 52 карт чотирьом гравцям (кожному по 13 карт) так, щоб кожен з них мав 4 карти однієї масті та по 3 карти інших мастей. Наприклад, {♣5, ♣10, ♣8, ♣4, ♠4, ♠J, ♠3, ♢Q, ♢7, ♢K, ♡9, ♡1, ♡5}."
   ]
  },
  {
   "cell_type": "code",
   "execution_count": null,
   "metadata": {},
   "outputs": [],
   "source": []
  },
  {
   "cell_type": "markdown",
   "metadata": {},
   "source": [
    "### 5.4 Задача\n",
    "Випадковим чином роздайте колоду з 52 карт чотирьом гравцям (кожному по 13 карт) так, щоб кожен з них мав від 2 до 5 карт кожної масті. Наприклад, {♣5, ♣10, ♣8, ♣4, ♠4, ♠J, ♠3, ♢Q, ♣7, ♢K, ♡9, ♡1, ♡5}."
   ]
  },
  {
   "cell_type": "code",
   "execution_count": null,
   "metadata": {},
   "outputs": [],
   "source": []
  }
 ],
 "metadata": {
  "kernelspec": {
   "display_name": "Python 3",
   "language": "python",
   "name": "python3"
  },
  "language_info": {
   "codemirror_mode": {
    "name": "ipython",
    "version": 3
   },
   "file_extension": ".py",
   "mimetype": "text/x-python",
   "name": "python",
   "nbconvert_exporter": "python",
   "pygments_lexer": "ipython3",
   "version": "3.6.5"
  }
 },
 "nbformat": 4,
 "nbformat_minor": 1
}
