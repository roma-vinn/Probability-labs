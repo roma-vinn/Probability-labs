{
 "cells": [
  {
   "cell_type": "markdown",
   "metadata": {},
   "source": [
    "# Домашня робота №2"
   ]
  },
  {
   "cell_type": "markdown",
   "metadata": {},
   "source": [
    "## 1 Пароль\n",
    "Напишіть програму (функцію) для генерування випадкового пароля з такими обмеженнями:\n",
    "- пароль складається з рівно $10$ символів\n",
    "- пароль містить хоча б одну маленьку латинську літеру [a-z]\n",
    "- пароль містить хоча б одну велику латинську літеру [A-Z]\n",
    "- пароль містить хоча б одну цифру [0-9]\n",
    "- пароль містить хоча б один спеціальний символ [~!@#$%^&*()-_+=\\/{}[].,?<>:;]"
   ]
  },
  {
   "cell_type": "code",
   "execution_count": 7,
   "metadata": {},
   "outputs": [],
   "source": [
    "import numpy as np"
   ]
  },
  {
   "cell_type": "code",
   "execution_count": 36,
   "metadata": {},
   "outputs": [
    {
     "name": "stdout",
     "output_type": "stream",
     "text": [
      "#IrA3X$^Mv\n",
      "Q6PdBn,7I~\n",
      "^9=v:Ddw2T\n",
      "LX7WDs*fEg\n",
      ")9njSv5Oi=\n"
     ]
    }
   ],
   "source": [
    "def generate_password():\n",
    "    s_letters_codes = np.arange(97, 123)\n",
    "    b_letters_codes = np.arange(65, 91)\n",
    "    nums_codes = np.arange(48, 58)\n",
    "    symbols_codes = np.array([ord(i) for i in '~!@#$%^&*()-_+=\\/{}[].,?<>:;'])\n",
    "\n",
    "    all_codes = np.concatenate((s_letters_codes, b_letters_codes, nums_codes, symbols_codes))\n",
    "\n",
    "    password = np.concatenate((np.random.choice(s_letters_codes, size=1),\n",
    "                               np.random.choice(b_letters_codes, size=1), \n",
    "                               np.random.choice(nums_codes, size=1), \n",
    "                               np.random.choice(symbols_codes, size=1), \n",
    "                               np.random.choice(all_codes, size=6)))\n",
    "    np.random.shuffle(password)\n",
    "    return ''.join(list(map(chr, password)))\n",
    "\n",
    "# test\n",
    "for i in range(5):\n",
    "    print(generate_password())"
   ]
  },
  {
   "cell_type": "markdown",
   "metadata": {},
   "source": [
    "## 2 Герби в ряд\n",
    "Реалізуйте функцію для обчислення емпіричної та теоретичної імовірностей випадіння $k$ гербів (HEADS) підряд у серії з $n$ підкидань чесної монетки. Підрахуйте відповідні ймовірності для таких параметрів:\n",
    "- $k = 2, n = 10, 50, 100, 500, 1000, 5000, 10000$\n",
    "- $k = 3, n = 10, 50, 100, 500, 1000, 5000, 10000$\n",
    "\n",
    "**Зауваження.** Нехай $k = 2, n = 10$ та маємо таку послідовність результатів підкидання монети: $\\{ H, T, H, H, H, H, T, T, H, T \\}$. Тоді матимемо $3$ випадки випадіння двох гербів підряд та емпіричну ймовірність такої події $1/3$."
   ]
  },
  {
   "cell_type": "code",
   "execution_count": 48,
   "metadata": {
    "scrolled": true
   },
   "outputs": [
    {
     "name": "stdout",
     "output_type": "stream",
     "text": [
      "['H' 'T' 'H' 'T' 'T' 'T' 'H' 'H' 'H' 'T']\n",
      "0.2222222222222222\n"
     ]
    }
   ],
   "source": [
    "def heads_in_row_empiric(k, n, show=False):\n",
    "    target = ['H', 'T']\n",
    "    # k - number of \"heads in row\"\n",
    "    # n - number of trials\n",
    "    tosses = np.random.choice(target, size=n)\n",
    "    inrow = 0\n",
    "    if show:\n",
    "        print(tosses)\n",
    "    for i in range(n-k+1):\n",
    "        if all(map(lambda x: x == \"H\", tosses[i:i+k])):\n",
    "            inrow += 1\n",
    "    return inrow/(n-1)\n",
    "\n",
    "# test\n",
    "print(heads_in_row_empiric(2, 10, True))"
   ]
  },
  {
   "cell_type": "code",
   "execution_count": 50,
   "metadata": {},
   "outputs": [
    {
     "name": "stdout",
     "output_type": "stream",
     "text": [
      "0.25\n"
     ]
    }
   ],
   "source": [
    "def heads_in_row_theoretical(k, n):\n",
    "    return 1/pow(2, k)\n",
    "\n",
    "# test\n",
    "print(heads_in_row_theoretical(2, 10))"
   ]
  },
  {
   "cell_type": "code",
   "execution_count": 52,
   "metadata": {},
   "outputs": [
    {
     "name": "stdout",
     "output_type": "stream",
     "text": [
      "For k = 2\n",
      "\tn = 10. Probability:\n",
      "\t\ttheoretical - 0.25\n",
      "\t\tempirical - 0.3333333333333333\n",
      "\tn = 50. Probability:\n",
      "\t\ttheoretical - 0.25\n",
      "\t\tempirical - 0.14285714285714285\n",
      "\tn = 100. Probability:\n",
      "\t\ttheoretical - 0.25\n",
      "\t\tempirical - 0.2828282828282828\n",
      "\tn = 500. Probability:\n",
      "\t\ttheoretical - 0.25\n",
      "\t\tempirical - 0.23046092184368738\n",
      "\tn = 1000. Probability:\n",
      "\t\ttheoretical - 0.25\n",
      "\t\tempirical - 0.24424424424424424\n",
      "\tn = 5000. Probability:\n",
      "\t\ttheoretical - 0.25\n",
      "\t\tempirical - 0.24384876975395078\n",
      "\tn = 10000. Probability:\n",
      "\t\ttheoretical - 0.25\n",
      "\t\tempirical - 0.24752475247524752\n",
      "For k = 3\n",
      "\tn = 10. Probability:\n",
      "\t\ttheoretical - 0.125\n",
      "\t\tempirical - 0.1111111111111111\n",
      "\tn = 50. Probability:\n",
      "\t\ttheoretical - 0.125\n",
      "\t\tempirical - 0.20408163265306123\n",
      "\tn = 100. Probability:\n",
      "\t\ttheoretical - 0.125\n",
      "\t\tempirical - 0.08080808080808081\n",
      "\tn = 500. Probability:\n",
      "\t\ttheoretical - 0.125\n",
      "\t\tempirical - 0.1402805611222445\n",
      "\tn = 1000. Probability:\n",
      "\t\ttheoretical - 0.125\n",
      "\t\tempirical - 0.11911911911911911\n",
      "\tn = 5000. Probability:\n",
      "\t\ttheoretical - 0.125\n",
      "\t\tempirical - 0.13342668533706742\n",
      "\tn = 10000. Probability:\n",
      "\t\ttheoretical - 0.125\n",
      "\t\tempirical - 0.12121212121212122\n"
     ]
    }
   ],
   "source": [
    "for k in [2, 3]:\n",
    "    print('For k =', k)\n",
    "    for n in [10,50,100,500,1000,5000,10000]:\n",
    "        print('\\tn = {}. Probability:'.format(n))\n",
    "        print('\\t\\ttheoretical - {}\\n\\t\\tempirical - {}'.format(heads_in_row_theoretical(k, n), \n",
    "                                                                heads_in_row_empiric(k, n)))"
   ]
  },
  {
   "cell_type": "markdown",
   "metadata": {},
   "source": [
    "## 3 Найбільше число\n",
    "Реалізуйте функцію підрахунку точної (теоретичної) імовірності того, що максимальне число після $n$ кидків звичайного грального кубика дорівнює $x\\_max$, для таких параметрів:\n",
    "- $n = 3, x\\_max = 6$\n",
    "- $n = 2, x\\_max = 3$\n",
    "- $n = 3, x\\_max = 5$\n",
    "\n",
    "Тобто, якщо $X_i, i = 1, \\ldots, n$, - число на $i$-му кидку кубика, а $X = \\max\\limits_{1 \\leq i \\leq n} X_i$, то потрібно знайти ймовірність $\\textbf{P} \\left( X = x\\_max \\right)$.\n",
    "\n",
    "Підрахуйте також емпіричні ймовірності відповідних подій у випадку $10000$ симуляцій.\n",
    "\n",
    "**Зауваження.** Якщо введені параметри не мають сенсу, то повертати $0$.\n",
    "Тобто, якщо вводиться $x\\_max < 1$ або $x\\_max > 6$."
   ]
  },
  {
   "cell_type": "code",
   "execution_count": 76,
   "metadata": {},
   "outputs": [],
   "source": [
    "def max_number(n, x_max):\n",
    "    if x_max < 1 or x_max > 6:\n",
    "        return 0\n",
    "    \n",
    "    return (pow(x_max, n) - pow(x_max-1, n)) / pow(6, n)"
   ]
  },
  {
   "cell_type": "code",
   "execution_count": 77,
   "metadata": {},
   "outputs": [],
   "source": [
    "def max_number_empiric(n, x_max, k=100000):\n",
    "    tosses = np.random.randint(low=1, high=7, size=(k, n))\n",
    "    maxes = list(np.apply_along_axis(max, 1, tosses)).count(x_max)\n",
    "    return maxes/k"
   ]
  },
  {
   "cell_type": "code",
   "execution_count": 78,
   "metadata": {},
   "outputs": [
    {
     "name": "stdout",
     "output_type": "stream",
     "text": [
      "For n = 3, x_max = 6:\n",
      "\ttheoretical - 0.4212962962962963\n",
      "\tempirical - 0.42362\n",
      "For n = 2, x_max = 3:\n",
      "\ttheoretical - 0.1388888888888889\n",
      "\tempirical - 0.13908\n",
      "For n = 3, x_max = 5:\n",
      "\ttheoretical - 0.2824074074074074\n",
      "\tempirical - 0.28029\n"
     ]
    }
   ],
   "source": [
    "for n, x_max in [(3, 6), (2, 3), (3, 5)]:\n",
    "    print('For n = {}, x_max = {}:'.format(n, x_max))\n",
    "    print('\\ttheoretical - {}\\n\\tempirical - {}'.format(max_number(n, x_max), max_number_empiric(n, x_max)))"
   ]
  },
  {
   "cell_type": "markdown",
   "metadata": {},
   "source": [
    "## 4 Сума чисел\n",
    "Реалізуйте функцію підрахунку точної (теоретичної) імовірності того, що сума чисел після $n$ кидків звичайного грального кубика дорівнює $s$, для таких параметрів:\n",
    "- $n = 3, s = 13$\n",
    "- $n = 2, s = 5$\n",
    "- $n = 3, s = 7$\n",
    "\n",
    "Тобто, якщо $X_i, i = 1, \\ldots, n$, - число на $i$-му кидку кубика, а $X = \\sum\\limits_{i = 1}^{n} X_i$, то потрібно знайти ймовірність $\\textbf{P} \\left( X = s \\right)$.\n",
    "\n",
    "Підрахуйте також емпіричні ймовірності відповідних подій у випадку $10000$ симуляцій.\n",
    "\n",
    "**Зауваження.** Якщо введені параметри не мають сенсу, то повертати $0$.\n",
    "Наприклад, якщо при $n = 3$ вводиться $s < 3$ або $s > 18$."
   ]
  },
  {
   "cell_type": "code",
   "execution_count": 95,
   "metadata": {},
   "outputs": [
    {
     "name": "stdout",
     "output_type": "stream",
     "text": [
      "21\n",
      "4\n",
      "15\n",
      "0\n"
     ]
    }
   ],
   "source": [
    "def count_variants(n, summ):\n",
    "    counter = 0\n",
    "    def _count_variants(n, summ):\n",
    "        nonlocal counter\n",
    "        if n == 1 and 1 <= summ <= 6:\n",
    "            counter += 1\n",
    "            return\n",
    "        for i in range(1, 7):\n",
    "            if 0 < (summ - i) / (n - 1) <= 6:\n",
    "                _count_variants(n - 1, summ - i)\n",
    "    _count_variants(n, summ)\n",
    "    return counter\n",
    "\n",
    "# test\n",
    "print(count_variants(3, 13))\n",
    "print(count_variants(2, 5))\n",
    "print(count_variants(3, 7))\n",
    "print(count_variants(3, 20))"
   ]
  },
  {
   "cell_type": "code",
   "execution_count": 96,
   "metadata": {},
   "outputs": [],
   "source": [
    "def summ_s(n, s):\n",
    "    return count_variants(n, s)/pow(6, n)\n",
    "\n",
    "    \n",
    "def summ_s_empiric(n, s, k=100000):\n",
    "    tosses = np.random.randint(low=1, high=7, size=(k, n))\n",
    "    sums = list(np.apply_along_axis(sum, 1, tosses)).count(s)\n",
    "    return sums/k"
   ]
  },
  {
   "cell_type": "code",
   "execution_count": 94,
   "metadata": {},
   "outputs": [
    {
     "name": "stdout",
     "output_type": "stream",
     "text": [
      "For n = 3, s = 13:\n",
      "\ttheoretical - 0.0\n",
      "\tempiric - 0.09718\n",
      "For n = 2, s = 5:\n",
      "\ttheoretical - 0.0\n",
      "\tempiric - 0.11248\n",
      "For n = 3, s = 7:\n",
      "\ttheoretical - 0.0\n",
      "\tempiric - 0.06818\n"
     ]
    }
   ],
   "source": [
    "for n, s in [(3, 13), (2, 5), (3, 7)]:\n",
    "    print('For n = {}, s = {}:'.format(n, s))\n",
    "    \n",
    "    print('\\ttheoretical - {}'.format(summ_s(n, s)))\n",
    "    print('\\tempiric - {}'.format(summ_s_empiric(n, s)))"
   ]
  },
  {
   "cell_type": "code",
   "execution_count": null,
   "metadata": {},
   "outputs": [],
   "source": []
  }
 ],
 "metadata": {
  "kernelspec": {
   "display_name": "Python 3",
   "language": "python",
   "name": "python3"
  },
  "language_info": {
   "codemirror_mode": {
    "name": "ipython",
    "version": 3
   },
   "file_extension": ".py",
   "mimetype": "text/x-python",
   "name": "python",
   "nbconvert_exporter": "python",
   "pygments_lexer": "ipython3",
   "version": "3.6.5"
  }
 },
 "nbformat": 4,
 "nbformat_minor": 1
}
