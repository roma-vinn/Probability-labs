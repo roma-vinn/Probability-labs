{
 "cells": [
  {
   "cell_type": "code",
   "execution_count": 1,
   "metadata": {},
   "outputs": [],
   "source": [
    "import numpy as np\n",
    "from itertools import product, combinations\n",
    "from math import factorial"
   ]
  },
  {
   "cell_type": "markdown",
   "metadata": {},
   "source": [
    "# Домашня робота №3\n",
    "Будемо використовувати *Збірник задач з теорії ймовірностей та математичної статистики: навч. посібник / В.В. Голомозий, М.В. Карташов, К.В. Ральченко. – К.: Видавничо-поліграфічний центр «Київський університет», 2015. – 366 с.*\n",
    "Електронну версію збірника можна знайти [тут](http://probability.univ.kiev.ua/userfiles/kmv/gkr-problems.pdf)."
   ]
  },
  {
   "cell_type": "markdown",
   "metadata": {},
   "source": [
    "## 1 Задача 1.3.12\n",
    "Знайти ймовiрнiсть того, що серед трьох цифр, кожна з яких вибрана навмання, буде лише 1, 2, 3 рiзних.\n",
    "\n",
    "Обчисліть теоретичну (повним перебором) та еміричну (симулюванням $100000$ експериментів) імовірності."
   ]
  },
  {
   "cell_type": "code",
   "execution_count": 2,
   "metadata": {},
   "outputs": [],
   "source": [
    "def c_nk(n, k):\n",
    "    return factorial(n)/(factorial(k) * factorial(n-k))"
   ]
  },
  {
   "cell_type": "code",
   "execution_count": 3,
   "metadata": {},
   "outputs": [],
   "source": [
    "def show_results(theoretical, empirical):\n",
    "    n = len(theoretical)\n",
    "    print('\\ttheoretical:')\n",
    "    for i in range(0, n):\n",
    "        print('\\t\\t{}. {}'.format(i+1, theoretical[i]))\n",
    "    print('\\tempirical:')\n",
    "    for i in range(0, n):\n",
    "        print('\\t\\t{}. {}'.format(i+1, empirical[i]))"
   ]
  },
  {
   "cell_type": "code",
   "execution_count": 4,
   "metadata": {},
   "outputs": [
    {
     "data": {
      "text/plain": [
       "(0.01, 0.27, 0.72)"
      ]
     },
     "execution_count": 4,
     "metadata": {},
     "output_type": "execute_result"
    }
   ],
   "source": [
    "def task1_t():\n",
    "    count1 = 0\n",
    "    count2 = 0\n",
    "    count3 = 0    \n",
    "    n = 0\n",
    "    for digits in product(range(10), repeat=3):\n",
    "        n += 1\n",
    "        if len(set(digits)) == 1:\n",
    "            count1 += 1\n",
    "        if len(set(digits)) == 2:\n",
    "            count2 += 1\n",
    "        if len(set(digits)) == 3:\n",
    "            count3 += 1\n",
    "    return(count1/n, count2/n, count3/n)\n",
    "\n",
    "task1_t()"
   ]
  },
  {
   "cell_type": "code",
   "execution_count": 5,
   "metadata": {},
   "outputs": [
    {
     "data": {
      "text/plain": [
       "(0.00983, 0.27278, 0.71739)"
      ]
     },
     "execution_count": 5,
     "metadata": {},
     "output_type": "execute_result"
    }
   ],
   "source": [
    "def task1_e(trials=100000):\n",
    "    digits = np.random.randint(low=0, high=10, size=(trials, 3))\n",
    "    count1 = list(np.apply_along_axis(lambda x: len(set(x)) == 1, 1, digits)).count(True)\n",
    "    count2 = list(np.apply_along_axis(lambda x: len(set(x)) == 2, 1, digits)).count(True)\n",
    "    count3 = list(np.apply_along_axis(lambda x: len(set(x)) == 3, 1, digits)).count(True)\n",
    "    return(count1/trials, count2/trials, count3/trials)\n",
    "\n",
    "task1_e()"
   ]
  },
  {
   "cell_type": "code",
   "execution_count": 6,
   "metadata": {},
   "outputs": [
    {
     "name": "stdout",
     "output_type": "stream",
     "text": [
      "For 3 digits:\n",
      "\ttheoretical:\n",
      "\t\t1. 0.01\n",
      "\t\t2. 0.27\n",
      "\t\t3. 0.72\n",
      "\tempirical:\n",
      "\t\t1. 0.01018\n",
      "\t\t2. 0.26982\n",
      "\t\t3. 0.72\n"
     ]
    }
   ],
   "source": [
    "print('For 3 digits:')\n",
    "show_results(task1_t(), task1_e())"
   ]
  },
  {
   "cell_type": "markdown",
   "metadata": {},
   "source": [
    "# 2 Задача 1.3.14\n",
    "З послiдовностi чисел $1, 2, . . . , n$ вибирають навмання $k$ рiзних чисел.\n",
    "Яка ймовiрнiсть того, що:\n",
    "1. кожне з вибраних чисел кратне даному числу $p$;\n",
    "2. кожне з вибраних чисел кратне хоча б одному з двох взаємно простих чисел $p$ i $q$;\n",
    "3. серед вибраних чисел є хоча б одне кратне $p$?\n",
    "\n",
    "Напишіть  відповідні функції для обрахунку теоретичної (повним перебором) та еміричної (симулюванням $100000$ експериментів) імовірностей в залежності від параметрів $n, k, p, q$.\n",
    "Виведіть результат для\n",
    "- $n = 25, k = 5, p = 3, q = 4$;\n",
    "- $n = 25, k = 10, p = 3, q = 4$."
   ]
  },
  {
   "cell_type": "code",
   "execution_count": 7,
   "metadata": {},
   "outputs": [],
   "source": [
    "def task2_t(n, k, p, q):\n",
    "    count1 = 0\n",
    "    count2 = 0\n",
    "    count3 = 0\n",
    "    trials = c_nk(n, k)\n",
    "    for numbers in combinations(range(1, n+1), k):\n",
    "        if all(map(lambda x: x%p == 0, numbers)):\n",
    "            count1 += 1\n",
    "        if all(map(lambda x: x%p == 0 or x%q == 0, numbers)):\n",
    "            count2 += 1\n",
    "        if any(map(lambda x: x%p == 0, numbers)):\n",
    "            count3 += 1\n",
    "        \n",
    "    return(count1/trials, count2/trials, count3/trials)"
   ]
  },
  {
   "cell_type": "code",
   "execution_count": 8,
   "metadata": {},
   "outputs": [],
   "source": [
    "def task2_e(n, k, p, q, trials=100000):\n",
    "    count1 = 0\n",
    "    count2 = 0\n",
    "    count3 = 0\n",
    "    for i in range(trials):\n",
    "        numbers = np.random.choice(range(1, n+1), size=(k), replace=False)\n",
    "        if all(numbers%p == 0):\n",
    "            count1 += 1\n",
    "        if all(np.logical_or(numbers%p == 0, numbers%q == 0)):\n",
    "            count2 += 1\n",
    "        if any(numbers%p == 0):\n",
    "            count3 += 1\n",
    "    \n",
    "    return(count1/trials, count2/trials, count3/trials)"
   ]
  },
  {
   "cell_type": "code",
   "execution_count": 9,
   "metadata": {},
   "outputs": [
    {
     "name": "stdout",
     "output_type": "stream",
     "text": [
      "For n = 25, k = 5, p = 3, q = 4\n",
      "\ttheoretical:\n",
      "\t\t1. 0.001054018445322793\n",
      "\t\t2. 0.014906832298136646\n",
      "\t\t3. 0.8835309617918313\n",
      "\tempirical:\n",
      "\t\t1. 0.00094\n",
      "\t\t2. 0.01464\n",
      "\t\t3. 0.88394\n",
      "For n = 25, k = 10, p = 3, q = 4\n",
      "\ttheoretical:\n",
      "\t\t1. 0.0\n",
      "\t\t2. 2.0191142818683536e-05\n",
      "\t\t3. 0.9940503432494279\n",
      "\tempirical:\n",
      "\t\t1. 0.0\n",
      "\t\t2. 1e-05\n",
      "\t\t3. 0.99425\n"
     ]
    }
   ],
   "source": [
    "for n, k, p, q in [(25, 5, 3, 4), (25, 10, 3, 4)]:\n",
    "    print(\"For n = {}, k = {}, p = {}, q = {}\".format(n, k, p, q))\n",
    "    show_results(task2_t(n, k, p, q), task2_e(n, k, p, q))"
   ]
  },
  {
   "cell_type": "markdown",
   "metadata": {},
   "source": [
    "# 3 Задача 1.4.6\n",
    "В коморi знаходяться $n$ пар черевикiв.\n",
    "З них випадковим чином вибираються $2k$ черевикiв.\n",
    "Яка ймовiрнiсть того, що серед вибраних черевикiв:\n",
    "1. вiдсутнi парнi;\n",
    "2. є рiвно одна комплектна пара;\n",
    "3. є двi комплектнi пари?\n",
    "\n",
    "Напишіть  відповідні функції для обрахунку теоретичної (повним перебором) та еміричної (симулюванням $100000$ експериментів) імовірностей в залежності від параметрів $n, k$.\n",
    "Виведіть результат для\n",
    "- $n = 8, k = 4$;\n",
    "- $n = 13, k = 5$."
   ]
  },
  {
   "cell_type": "code",
   "execution_count": 10,
   "metadata": {},
   "outputs": [],
   "source": [
    "# Повний перебор - працює правильно, але ЗАНАДТО дового\n",
    "\n",
    "def task3_t(n, k):\n",
    "    count1 = 0\n",
    "    count2 = 0\n",
    "    count3 = 0\n",
    "    trials = c_nk(2*n, 2*k)\n",
    "    boots = sorted([num for num in range(n) for boot in ('l', 'r')])\n",
    "    for ch in combinations(boots, 2*k):\n",
    "        if len(set(ch)) == 2*k:\n",
    "            count1 += 1\n",
    "        if len(set(ch))== 2*k - 1:\n",
    "            count2 += 1\n",
    "        if len(set(ch)) == 2*k - 2:\n",
    "            count3 += 1\n",
    "    return(count1/trials, count2/trials, count3/trials)"
   ]
  },
  {
   "cell_type": "code",
   "execution_count": 11,
   "metadata": {},
   "outputs": [],
   "source": [
    "def task3_e(n, k, trials=100000):\n",
    "    count1 = 0\n",
    "    count2 = 0\n",
    "    count3 = 0\n",
    "    boots = sorted([num for num in range(n) for boot in ('l', 'r')])\n",
    "    for i in range(trials):\n",
    "        ch = np.random.choice(boots, 2*k, replace=False)\n",
    "        if len(set(ch)) == 2*k:\n",
    "            count1 += 1\n",
    "        if len(set(ch)) == 2*k - 1:\n",
    "            count2 += 1\n",
    "        if len(set(ch)) == 2*k - 2:\n",
    "            count3 += 1\n",
    "    return(count1/trials, count2/trials, count3/trials)"
   ]
  },
  {
   "cell_type": "code",
   "execution_count": 12,
   "metadata": {},
   "outputs": [
    {
     "name": "stdout",
     "output_type": "stream",
     "text": [
      "For n = 8, k = 4\n",
      "\ttheoretical:\n",
      "\t\t1. 0.01989121989121989\n",
      "\t\t2. 0.2784770784770785\n",
      "\t\t3. 0.5221445221445221\n",
      "\tempirical:\n",
      "\t\t1. 0.01998\n",
      "\t\t2. 0.27687\n",
      "\t\t3. 0.52322\n",
      "For n = 13, k = 5\n",
      "\ttheoretical:\n",
      "\t\t1. 0.05513528065688518\n",
      "\t\t2. 0.31013595369497915\n",
      "\t\t3. 0.4341903351729708\n",
      "\tempirical:\n",
      "\t\t1. 0.05428\n",
      "\t\t2. 0.31088\n",
      "\t\t3. 0.43224\n"
     ]
    }
   ],
   "source": [
    "for n, k in [(8, 4), (13, 5)]:\n",
    "    print(\"For n = {}, k = {}\".format(n, k))\n",
    "    show_results(task3_t(n, k), task3_e(n, k))"
   ]
  },
  {
   "cell_type": "markdown",
   "metadata": {},
   "source": [
    "# 4 Задача 1.2.15\n",
    "Нехай $\\Omega = {1, 2, \\ldots, 2n}$.\n",
    "Всiм числам приписанi ймовiрностi, пропорцiйнi логарифмам цих чисел.\n",
    "Знайти цi ймовiрностi.\n",
    "Знайти ймовiрнiсть того, що в результатi експерименту з’явиться:\n",
    "1. парне число;\n",
    "2. непарне число.\n",
    "\n",
    "Напишіть функцію для обрахунку еміричної (симулюванням $100000$ експериментів) імовірності в залежності від параметра $n$.\n",
    "Виведіть результат для\n",
    "- $n = 10$;\n",
    "- $n = 25$."
   ]
  },
  {
   "cell_type": "code",
   "execution_count": 13,
   "metadata": {},
   "outputs": [],
   "source": [
    "def task4_e(n):\n",
    "    k = 1 / (sum([np.log(i) for i in range(1, 2*n + 1)]))\n",
    "    p = [k*np.log(i) for i in range(1, 2*n + 1)]\n",
    "    proba_odd = 0\n",
    "    for i in range(1, 2*n + 1, 2):\n",
    "        proba_odd += p[i]\n",
    "    proba_even = 1 - proba_odd\n",
    "    \n",
    "    return(proba_even, proba_odd)"
   ]
  },
  {
   "cell_type": "code",
   "execution_count": 14,
   "metadata": {},
   "outputs": [
    {
     "name": "stdout",
     "output_type": "stream",
     "text": [
      "For n = 10\n",
      "\tProbability of even - 0.4794953700720773\n",
      "\tProbability of odd - 0.5205046299279227\n",
      "For n = 25\n",
      "\tProbability of even - 0.49263592601410966\n",
      "\tProbability of odd - 0.5073640739858903\n"
     ]
    }
   ],
   "source": [
    "for n in [10, 25]:\n",
    "    print('For n =', n)\n",
    "    pb_e, pb_o = task4_e(n)\n",
    "    print('\\tProbability of even -', pb_e)\n",
    "    print('\\tProbability of odd -', pb_o)"
   ]
  }
 ],
 "metadata": {
  "kernelspec": {
   "display_name": "Python 3",
   "language": "python",
   "name": "python3"
  },
  "language_info": {
   "codemirror_mode": {
    "name": "ipython",
    "version": 3
   },
   "file_extension": ".py",
   "mimetype": "text/x-python",
   "name": "python",
   "nbconvert_exporter": "python",
   "pygments_lexer": "ipython3",
   "version": "3.6.5"
  }
 },
 "nbformat": 4,
 "nbformat_minor": 1
}
