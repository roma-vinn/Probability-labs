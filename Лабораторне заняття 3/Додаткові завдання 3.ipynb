{
 "cells": [
  {
   "cell_type": "markdown",
   "metadata": {},
   "source": [
    "# Додаткові завдання №3"
   ]
  },
  {
   "cell_type": "markdown",
   "metadata": {},
   "source": [
    "## 1 Перевірка взаємної простоти двох чисел\n",
    "Реалізуйте алгоритм Евкліда для перевірки взаємної простоти двох чисел (у вигляді функції від двох аргументів).\n",
    "Виконайте друге завдання з **Домашньої роботи №3** (**Задача 1.3.14**) з використанням даної функції."
   ]
  },
  {
   "cell_type": "code",
   "execution_count": 1,
   "metadata": {
    "collapsed": true
   },
   "outputs": [],
   "source": [
    "# Місце для Вашого коду\n",
    "\n"
   ]
  },
  {
   "cell_type": "markdown",
   "metadata": {},
   "source": [
    "## 2 Аналіз функцій з класу *numpy.random*\n",
    "Проаналізуйте взаємозв'язок між функціями з класу **numpy.random**:\n",
    "- [rand](https://docs.scipy.org/doc/numpy-1.14.1/reference/generated/numpy.random.rand.html)\n",
    "- [randint](https://docs.scipy.org/doc/numpy-1.14.1/reference/generated/numpy.random.randint.html)\n",
    "- [random_integers](https://docs.scipy.org/doc/numpy-1.14.1/reference/generated/numpy.random.random_integers.html)\n",
    "- [random_sample](https://docs.scipy.org/doc/numpy-1.14.1/reference/generated/numpy.random.random_sample.html)\n",
    "- [random](https://docs.scipy.org/doc/numpy-1.14.1/reference/generated/numpy.random.random.html)\n",
    "- [ranf](https://docs.scipy.org/doc/numpy-1.14.1/reference/generated/numpy.random.ranf.html)\n",
    "- [sample](https://docs.scipy.org/doc/numpy-1.14.1/reference/generated/numpy.random.sample.html)\n",
    "- [choice](https://docs.scipy.org/doc/numpy-1.14.1/reference/generated/numpy.random.choice.html)\n",
    "- [shuffle](https://docs.scipy.org/doc/numpy-1.14.1/reference/generated/numpy.random.shuffle.html)\n",
    "- [permutation](https://docs.scipy.org/doc/numpy-1.14.1/reference/generated/numpy.random.permutation.html)"
   ]
  },
  {
   "cell_type": "code",
   "execution_count": 2,
   "metadata": {
    "collapsed": true
   },
   "outputs": [],
   "source": [
    "# Місце для Вашого коду та висновків\n",
    "\n"
   ]
  }
 ],
 "metadata": {
  "kernelspec": {
   "display_name": "Python 3",
   "language": "python",
   "name": "python3"
  },
  "language_info": {
   "codemirror_mode": {
    "name": "ipython",
    "version": 3
   },
   "file_extension": ".py",
   "mimetype": "text/x-python",
   "name": "python",
   "nbconvert_exporter": "python",
   "pygments_lexer": "ipython3",
   "version": "3.6.1"
  }
 },
 "nbformat": 4,
 "nbformat_minor": 0
}
