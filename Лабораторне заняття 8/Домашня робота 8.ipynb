{
 "cells": [
  {
   "cell_type": "markdown",
   "metadata": {},
   "source": [
    "# Домашня робота №8"
   ]
  },
  {
   "cell_type": "markdown",
   "metadata": {},
   "source": [
    "# Перетворення випадкових величин та векторів"
   ]
  },
  {
   "cell_type": "code",
   "execution_count": 1,
   "metadata": {},
   "outputs": [],
   "source": [
    "import numpy as np\n",
    "import matplotlib.pyplot as plt\n",
    "from scipy.stats import expon"
   ]
  },
  {
   "cell_type": "code",
   "execution_count": 2,
   "metadata": {},
   "outputs": [],
   "source": [
    "SIZE = 10000"
   ]
  },
  {
   "cell_type": "markdown",
   "metadata": {},
   "source": [
    "## 1 Експоненційний розподіл"
   ]
  },
  {
   "cell_type": "markdown",
   "metadata": {},
   "source": [
    "### 1.1 Завдання 1.1"
   ]
  },
  {
   "cell_type": "markdown",
   "metadata": {},
   "source": [
    "Розглянемо дві незалежні випадкові величини $\\xi_1, \\xi_2$ зі стандартного експоненційного розподілу.\n",
    "Тобто $\\xi_1, \\xi_2 \\sim Exp(1)$.\n",
    "\n",
    "Який розподіл має випадкова величина $\\displaystyle \\eta = \\frac{\\xi_1}{\\xi_1 + \\xi_2}$?\n",
    "1. Згенеруйте $n = 10000$ значень випадкових величин $\\xi_1, \\xi_2$;\n",
    "2. Отримайте $n = 10000$ значень випадкової величини $\\eta$;\n",
    "3. Зобразіть на графіку:\n",
    "   - нормовану гістограму отриманих $n = 10000$ значень випадкової величини $\\eta$;\n",
    "   - функцію щільності випадкової величини $\\eta$.\n",
    "\n",
    "**Зауваження.** Передбачається використання теореми про обрахунок щільності функції від випадкової величини (через якобіан оберненого відображення)."
   ]
  },
  {
   "cell_type": "code",
   "execution_count": 9,
   "metadata": {},
   "outputs": [
    {
     "data": {
      "image/png": "[encoded data removed]",
      "text/plain": [
       "<Figure size 432x288 with 1 Axes>"
      ]
     },
     "metadata": {},
     "output_type": "display_data"
    }
   ],
   "source": [
    "xi1 = expon.rvs(size=SIZE)\n",
    "xi2 = expon.rvs(size=SIZE)\n",
    "eta = xi1/(xi1+xi2)\n",
    "\n",
    "x = np.arange(0, 1, 0.01)\n",
    "\n",
    "plt.hist(eta, density=True, rwidth=0.9, color='c')\n",
    "plt.plot(x, np.zeros(x.size)+1, 'r--')\n",
    "plt.show()"
   ]
  },
  {
   "cell_type": "markdown",
   "metadata": {},
   "source": [
    "### 1.2 Завдання 1.2"
   ]
  },
  {
   "cell_type": "markdown",
   "metadata": {},
   "source": [
    "Розглянемо дві незалежні випадкові величини $\\xi_1, \\xi_2$ зі стандартного експоненційного розподілу.\n",
    "Тобто $\\xi_1, \\xi_2 \\sim Exp(1)$.\n",
    "\n",
    "Який розподіл має випадкова величина $\\eta = \\xi_1 + \\xi_2$?\n",
    "1. Згенеруйте $n = 10000$ значень випадкових величин $\\xi_1, \\xi_2$;\n",
    "2. Отримайте $n = 10000$ значень випадкової величини $\\eta$;\n",
    "3. Зобразіть на графіку:\n",
    "   - нормовану гістограму отриманих $n = 10000$ значень випадкової величини $\\eta$;\n",
    "   - функцію щільності випадкової величини $\\eta$.\n",
    "\n",
    "**Зауваження.** Передбачається використання теореми про обрахунок щільності суми двох незалежних випадкових величин (через згортку щільностей)."
   ]
  },
  {
   "cell_type": "code",
   "execution_count": 18,
   "metadata": {},
   "outputs": [
    {
     "data": {
      "image/png": "[encoded data removed]",
      "text/plain": [
       "<Figure size 432x288 with 1 Axes>"
      ]
     },
     "metadata": {},
     "output_type": "display_data"
    }
   ],
   "source": [
    "xi1 = expon.rvs(size=SIZE)\n",
    "xi2 = expon.rvs(size=SIZE)\n",
    "eta = xi1+xi2\n",
    "\n",
    "x = np.arange(0, 10, 0.01)\n",
    "\n",
    "plt.hist(eta, density=True, bins='auto', color='c')\n",
    "plt.plot(x, x * np.exp(-x), 'r--')\n",
    "plt.show()"
   ]
  },
  {
   "cell_type": "markdown",
   "metadata": {},
   "source": [
    "## 2 Нормальний розподіл"
   ]
  },
  {
   "cell_type": "markdown",
   "metadata": {},
   "source": [
    "### 2.1 Завдання 2.1"
   ]
  },
  {
   "cell_type": "markdown",
   "metadata": {},
   "source": [
    "Розглянемо три незалежні випадкові величини $\\xi_1, \\xi_2, \\theta$ такі,\n",
    "що $\\xi_1, \\xi_2 \\sim N(0, 1), \\theta \\sim Uniform(0, 2 \\pi)$.\n",
    "\n",
    "Який розподіл має випадкова величина $\\displaystyle \\zeta = \\xi_1 \\cos \\theta + \\xi_2 \\sin \\theta$?\n",
    "1. Згенеруйте $n = 10000$ значень випадкових величин $\\xi_1, \\xi_2, \\theta$;\n",
    "2. Отримайте $n = 10000$ значень випадкової величини $\\zeta$;\n",
    "3. Зобразіть на графіку:\n",
    "   - нормовану гістограму отриманих $n = 10000$ значень випадкової величини $\\zeta$;\n",
    "   - функцію щільності випадкової величини $\\zeta$.\n",
    "\n",
    "**Зауваження.** Передбачається використання теореми про лінійне перетворення нормальних величин."
   ]
  },
  {
   "cell_type": "code",
   "execution_count": 4,
   "metadata": {},
   "outputs": [],
   "source": [
    "# Місце для Вашого коду\n",
    "\n"
   ]
  },
  {
   "cell_type": "markdown",
   "metadata": {},
   "source": [
    "### 2.2 Завдання 2.2"
   ]
  },
  {
   "cell_type": "markdown",
   "metadata": {},
   "source": [
    "Розглянемо дві незалежні випадкові величини $\\xi_1, \\xi_2$ зі стандартного нормального розподілу.\n",
    "Тобто $\\xi_1, \\xi_2 \\sim N(0, 1)$.\n",
    "\n",
    "Які розподіли (щільності) мають випадкові величини $\\displaystyle \\zeta = \\sqrt{\\xi_1^2 + \\xi_2^2}, \\eta = \\arccos \\frac{\\xi_1}{\\zeta}$?\n",
    "1. Згенеруйте $n = 10000$ значень випадкових величин $\\xi_1, \\xi_2$;\n",
    "2. Отримайте $n = 10000$ значень випадкової величини $\\zeta$;\n",
    "3. Отримайте $n = 10000$ значень випадкової величини $\\eta$;\n",
    "4. Зобразіть на графіку:\n",
    "   - нормовану гістограму отриманих $n = 10000$ значень випадкової величини $\\zeta$;\n",
    "   - функцію щільності випадкової величини $\\zeta$;\n",
    "5. Зобразіть на графіку:\n",
    "   - нормовану гістограму отриманих $n = 10000$ значень випадкової величини $\\eta$;\n",
    "   - функцію щільності випадкової величини $\\eta$.\n",
    "\n",
    "**Зауваження 1.** Передбачається використання теореми про обрахунок щільності функції від випадкової величини (через якобіан оберненого відображення).\n",
    "\n",
    "**Зауваження 2.** Насправді, розподіл отриманих значень випадкової величини $\\eta$ буде трохи відрізнятися від порахованого теоретично (будуть інші параметри).\n",
    "Так виходить за рахунок реалізації функції $\\arccos$ (її області значень)."
   ]
  },
  {
   "cell_type": "code",
   "execution_count": 5,
   "metadata": {},
   "outputs": [],
   "source": [
    "# Місце для Вашого коду\n",
    "\n"
   ]
  },
  {
   "cell_type": "markdown",
   "metadata": {},
   "source": [
    "## 3 Рівномірний розподіл"
   ]
  },
  {
   "cell_type": "markdown",
   "metadata": {},
   "source": [
    "### 3.1 Завдання 3.1"
   ]
  },
  {
   "cell_type": "markdown",
   "metadata": {},
   "source": [
    "Розглянемо дві незалежні випадкові величини $\\xi_1, \\xi_2$ з рівномірного розподілу на $[-1, 1]$.\n",
    "Тобто $\\xi_1, \\xi_2 \\sim Uniform(-1, 1)$.\n",
    "\n",
    "Який розподіл має випадкова величина $\\eta = \\xi_1 + \\xi_2$?\n",
    "1. Згенеруйте $n = 10000$ значень випадкових величин $\\xi_1, \\xi_2$;\n",
    "2. Отримайте $n = 10000$ значень випадкової величини $\\eta$;\n",
    "3. Зобразіть на графіку:\n",
    "   - нормовану гістограму отриманих $n = 10000$ значень випадкової величини $\\eta$;\n",
    "   - функцію щільності випадкової величини $\\eta$.\n",
    "\n",
    "**Зауваження.** Передбачається використання теореми про обрахунок щільності суми двох незалежних випадкових величин (через згортку щільностей)."
   ]
  },
  {
   "cell_type": "code",
   "execution_count": 6,
   "metadata": {},
   "outputs": [],
   "source": [
    "# Місце для Вашого коду\n",
    "\n"
   ]
  },
  {
   "cell_type": "code",
   "execution_count": null,
   "metadata": {
    "collapsed": true
   },
   "outputs": [],
   "source": []
  }
 ],
 "metadata": {
  "kernelspec": {
   "display_name": "Python 3",
   "language": "python",
   "name": "python3"
  },
  "language_info": {
   "codemirror_mode": {
    "name": "ipython",
    "version": 3
   },
   "file_extension": ".py",
   "mimetype": "text/x-python",
   "name": "python",
   "nbconvert_exporter": "python",
   "pygments_lexer": "ipython3",
   "version": "3.6.5"
  }
 },
 "nbformat": 4,
 "nbformat_minor": 1
}
