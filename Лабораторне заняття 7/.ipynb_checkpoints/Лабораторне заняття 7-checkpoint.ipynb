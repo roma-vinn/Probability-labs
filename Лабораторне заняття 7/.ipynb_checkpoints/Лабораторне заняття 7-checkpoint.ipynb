{
 "cells": [
  {
   "cell_type": "markdown",
   "metadata": {},
   "source": [
    "# Лабораторне заняття №7"
   ]
  },
  {
   "cell_type": "markdown",
   "metadata": {},
   "source": [
    "# Перетворення випадкових величин\n",
    "На цьому занятті ми реалізуємо перетворення випадкових величин із розглянутих раніше розподілів, які реалізовані в бібліотеці [SciPy](https://docs.scipy.org/doc/scipy/reference/).\n",
    "Із цього пакету будемо використовувати клас [scipy.stats](https://docs.scipy.org/doc/scipy/reference/stats.html), в якому реалізована велика кількість імовірнісних розподілів і статистичних функцій.\n",
    "\n",
    "Для візуалізації використаємо бібліотеку [Matplotlib](https://matplotlib.org/)."
   ]
  },
  {
   "cell_type": "code",
   "execution_count": 2,
   "metadata": {},
   "outputs": [],
   "source": [
    "import numpy as np\n",
    "import matplotlib.pyplot as plt"
   ]
  },
  {
   "cell_type": "markdown",
   "metadata": {},
   "source": [
    "## 1 Квантильне перетворення"
   ]
  },
  {
   "cell_type": "markdown",
   "metadata": {},
   "source": [
    "Справедливі два твердження про квантильне перетворення:\n",
    "1. Нехай випадкова величина $\\xi$ має неперервну функцію розподілу $F$.\n",
    "Тоді випадкова величина $\\eta = F(\\xi)$ має стандартний рівномірний розподіл:\n",
    "$F(\\xi) \\sim Unif(0, 1)$.\n",
    "2. Нехай $F$ - неперервна функція розподілу,\n",
    "випадкова величина $\\eta$ має стандартний рівномірний розподіл: $\\eta \\sim Unif(0, 1)$.\n",
    "Тоді випадкова величина $\\xi = F^{-1}(\\eta)$ має функцію розподілу $F$."
   ]
  },
  {
   "cell_type": "markdown",
   "metadata": {},
   "source": [
    "### 1.1 Експоненційний розподіл"
   ]
  },
  {
   "cell_type": "markdown",
   "metadata": {},
   "source": [
    "Реалізуйте перше твердження про квантильне перетворення для випадкової величини $\\xi \\sim Exp(1)$:\n",
    "- згенеруйте $n = 10000$ значень випадкової величини $\\xi$;\n",
    "- отримайте $n = 10000$ значень випадкової величини $F(\\xi)$;\n",
    "- намалюйте нормовану гістограму отриманих $n = 10000$ значень випадкової величини $F(\\xi)$;\n",
    "- намалюйте щільність стандартного рівномірного розподілу на тому ж графіку.\n",
    "\n",
    "Порівняйте форму нормованої гістограми та функції щільності.\n",
    "\n",
    "Що відбувається при збільшенні (зменшенні) кількості випадкових значень $n$?"
   ]
  },
  {
   "cell_type": "code",
   "execution_count": 3,
   "metadata": {},
   "outputs": [],
   "source": [
    "from scipy.stats import expon\n",
    "from scipy.stats import uniform"
   ]
  },
  {
   "cell_type": "code",
   "execution_count": 4,
   "metadata": {},
   "outputs": [
    {
     "data": {
      "image/png": "[encoded data removed]",
      "text/plain": [
       "<Figure size 432x288 with 1 Axes>"
      ]
     },
     "metadata": {},
     "output_type": "display_data"
    }
   ],
   "source": [
    "SIZE = 10000\n",
    "loc = 0\n",
    "scale = 1\n",
    "xi = expon(loc=loc, scale=scale)\n",
    "x1 = xi.rvs(SIZE)\n",
    "x2 = xi.cdf(x1)\n",
    "plt.hist(x2, density=True)\n",
    "plt.plot(np.linspace(0, 1, SIZE), uniform(0, 1).pdf(np.linspace(0, 1, SIZE)))\n",
    "plt.show()\n"
   ]
  },
  {
   "cell_type": "markdown",
   "metadata": {},
   "source": [
    "Реалізуйте друге твердження про квантильне перетворення для випадкової величини $\\xi \\sim Exp(1)$:\n",
    "- згенеруйте $n = 10000$ значень випадкової величини $\\eta \\sim Unif(0, 1)$;\n",
    "- обчисліть функцію обернену до функції розподілу випадкової величини $\\xi$;\n",
    "- отримайте $n = 10000$ значень випадкової величини $F^{-1}(\\eta)$;\n",
    "- намалюйте нормовану гістограму отриманих $n = 10000$ значень випадкової величини $F^{-1}(\\eta)$;\n",
    "- намалюйте щільність випадкової величини $\\xi$ на тому ж графіку.\n",
    "\n",
    "Порівняйте форму нормованої гістограми та функції щільності.\n",
    "\n",
    "Що відбувається при збільшенні (зменшенні) кількості випадкових значень $n$?"
   ]
  },
  {
   "cell_type": "code",
   "execution_count": 5,
   "metadata": {},
   "outputs": [
    {
     "data": {
      "image/png": "[encoded data removed]",
      "text/plain": [
       "<Figure size 432x288 with 1 Axes>"
      ]
     },
     "metadata": {},
     "output_type": "display_data"
    }
   ],
   "source": [
    "def rev(x):\n",
    "    return -np.log(1-x)\n",
    "mu = uniform()\n",
    "x_mu = mu.rvs(SIZE)\n",
    "x_rev = rev(x_mu)\n",
    "plt.hist(x_rev, density=True, bins=40)\n",
    "x = np.arange(0, 10, 0.01)\n",
    "plt.plot(x, xi.pdf(x))\n",
    "plt.show()"
   ]
  },
  {
   "cell_type": "markdown",
   "metadata": {},
   "source": [
    "### 1.2 Квантиль"
   ]
  },
  {
   "cell_type": "markdown",
   "metadata": {},
   "source": [
    "Нехай $F$ - функція розпділу деякої випадкової величини $\\xi$, $\\alpha \\in [0, 1]$.\n",
    "\n",
    "Квантиль рівня $\\alpha$ - це таке число $x_{\\alpha}$, що\n",
    "$$F \\left(x_{\\alpha}\\right) = \\mathsf{P}\\left(\\xi < x_{\\alpha}\\right) = \\alpha.$$\n",
    "\n",
    "Інший варіант визначення. Нехай $Q(\\alpha)$ - це квантиль рівня $\\alpha$. Тоді\n",
    "$$Q(\\alpha) = \\inf \\left\\{ x \\in \\mathbb{R} \\, \\colon \\, \\alpha < F(x) \\right\\}.$$\n",
    "\n",
    "Якщо $F$ - неперервна та строго зростає, то\n",
    "$$Q = F^{-1}.$$"
   ]
  },
  {
   "cell_type": "markdown",
   "metadata": {},
   "source": [
    "Для розподілів із класу **scipy.stats** функція квантилю реалізована методом **ppf**."
   ]
  },
  {
   "cell_type": "markdown",
   "metadata": {},
   "source": [
    "Наприклад, для експоненційного розподілу маємо (детальна інформація в [документації](https://docs.scipy.org/doc/scipy/reference/generated/scipy.stats.expon.html)):"
   ]
  },
  {
   "cell_type": "code",
   "execution_count": 6,
   "metadata": {},
   "outputs": [
    {
     "name": "stdout",
     "output_type": "stream",
     "text": [
      "[0.         0.10536052 0.22314355 0.35667494 0.51082562 0.69314718\n",
      " 0.91629073 1.2039728  1.60943791 2.30258509        inf]\n",
      "[0.  0.1 0.2 0.3 0.4 0.5 0.6 0.7 0.8 0.9 1. ]\n"
     ]
    }
   ],
   "source": [
    "from scipy.stats import expon\n",
    "\n",
    "q = np.arange(0, 1.1, 0.1)\n",
    "f_q = expon.ppf(q, loc=0, scale=1)\n",
    "print(f_q)\n",
    "\n",
    "qq = expon.cdf(f_q, loc=0, scale=1)\n",
    "print(qq)"
   ]
  },
  {
   "cell_type": "markdown",
   "metadata": {},
   "source": [
    "Для випадкової величини $\\xi \\sim Exp(1)$ застосуйте метод **ppf** до згенерованих раніше $n = 10000$ значень випадкової величини $\\eta \\sim Unif(0, 1)$.\n",
    "Порівняйте ці значення з отриманими раніше $n = 10000$ значеннями випадкової величини $F^{-1}(\\eta)$ за допомогою оберненої функції розподілу, яку Ви обчислювали."
   ]
  },
  {
   "cell_type": "code",
   "execution_count": 105,
   "metadata": {},
   "outputs": [
    {
     "name": "stdout",
     "output_type": "stream",
     "text": [
      "Number of different values = 137\n",
      "Number of values that differ more than 10^{-10} = 0\n"
     ]
    }
   ],
   "source": [
    "print(\"Number of different values = {}\".format(sum(f_eta_rvs != xi.ppf(eta_rvs))))\n",
    "print(\"Number of values that differ more than 10^{} = {}\".format(\"{-10}\", sum(f_eta_rvs - xi.ppf(eta_rvs) > 10**(-10))))"
   ]
  },
  {
   "cell_type": "markdown",
   "metadata": {},
   "source": [
    "Реалізуйте друге твердження про квантильне перетворення для випадкової величини $\\xi \\sim Exp(1)$ з використанням вбудованого методу квантильної функції:\n",
    "- візьміть згенеровані раніше $n = 10000$ значень випадкової величини $\\eta \\sim Unif(0, 1)$;\n",
    "- отримайте $n = 10000$ значень випадкової величини $F^{-1}(\\eta)$ за допомогою методу **ppf**;\n",
    "- намалюйте нормовану гістограму отриманих $n = 10000$ значень випадкової величини $F^{-1}(\\eta)$;\n",
    "- намалюйте щільність випадкової величини $\\xi$ на тому ж графіку.\n",
    "\n",
    "Порівняйте даний графік з отриманим раніше."
   ]
  },
  {
   "cell_type": "code",
   "execution_count": 16,
   "metadata": {},
   "outputs": [
    {
     "data": {
      "image/png": "[encoded data removed]",
      "text/plain": [
       "<Figure size 432x288 with 1 Axes>"
      ]
     },
     "metadata": {},
     "output_type": "display_data"
    }
   ],
   "source": [
    "plt.hist(xi.ppf(x_mu), density=True, bins='auto')\n",
    "plt.plot(np.linspace(0, 8, 1000), xi.pdf(np.linspace(0, 8, 1000)))\n",
    "plt.show()"
   ]
  },
  {
   "cell_type": "markdown",
   "metadata": {},
   "source": [
    "## 2 Модуль від випадкової величини"
   ]
  },
  {
   "cell_type": "markdown",
   "metadata": {},
   "source": [
    "### 2.1 Нормальний розподіл"
   ]
  },
  {
   "cell_type": "markdown",
   "metadata": {},
   "source": [
    "Розглянемо випадкову величину $\\xi$ зі стандартного нормального розподілу.\n",
    "Тобто $\\xi \\sim N(0, 1)$.\n",
    "\n",
    "1. Згенеруйте $n = 10000$ значень випадкової величини $\\xi$;\n",
    "2. Реалізуйте 2 сабплоти в одному рядку;\n",
    "3. На першому сабплоті намалюйте:\n",
    "   - нормовану гістограму згенерованих $n = 10000$ значень випадкової величини $\\xi$;\n",
    "   - функцію щільності випадкової величини $\\xi$;\n",
    "4. Отримайте $n = 10000$ значень випадкової величини $|\\xi|$ (застосуйте функцію модуль до згенерованих $n = 10000$ значень випадкової величини $\\xi$);\n",
    "5. На другому сабплоті намалюйте:\n",
    "   - нормовану гістограму отриманих $n = 10000$ значень випадкової величини $|\\xi|$;\n",
    "   - функцію щільності випадкової величини $\\xi$;\n",
    "   - функцію щільності випадкової величини $|\\xi|$."
   ]
  },
  {
   "cell_type": "code",
   "execution_count": 17,
   "metadata": {},
   "outputs": [],
   "source": [
    "from scipy.stats import norm"
   ]
  },
  {
   "cell_type": "code",
   "execution_count": 42,
   "metadata": {},
   "outputs": [],
   "source": [
    "def abs_norm_pdf(x):\n",
    "    return np.where(x>=0, np.sqrt(2/np.pi) * np.exp(-x**2 / 2), 0)\n"
   ]
  },
  {
   "cell_type": "code",
   "execution_count": 44,
   "metadata": {},
   "outputs": [
    {
     "data": {
      "image/png": "[encoded data removed]",
      "text/plain": [
       "<Figure size 792x432 with 2 Axes>"
      ]
     },
     "metadata": {},
     "output_type": "display_data"
    }
   ],
   "source": [
    "xi = norm()\n",
    "plt.figure(figsize=(11, 6))\n",
    "\n",
    "plt.subplot(121)\n",
    "xi_rvs = xi.rvs(size=SIZE)\n",
    "plt.hist(xi_rvs, density=True, bins='auto')\n",
    "x = np.linspace(-4, 4, SIZE)\n",
    "plt.plot(x, xi.pdf(x))\n",
    "\n",
    "plt.subplot(122)\n",
    "abs_xi_rvs = np.abs(xi_rvs)\n",
    "plt.hist(abs_xi_rvs, density=True, bins='auto')\n",
    "x = np.linspace(-4, 4, SIZE)\n",
    "plt.plot(x, xi.pdf(x))\n",
    "plt.plot(x, abs_norm_pdf(x))\n",
    "\n",
    "plt.show()\n",
    "\n"
   ]
  },
  {
   "cell_type": "markdown",
   "metadata": {},
   "source": [
    "### 2.2 Рівномірний розподіл"
   ]
  },
  {
   "cell_type": "markdown",
   "metadata": {},
   "source": [
    "Розглянемо випадкову величину $\\xi$ з рівномірного розподілу на $[-1, 4]$.\n",
    "Тобто $\\xi \\sim Unif(-1, 4)$.\n",
    "\n",
    "1. Згенеруйте $n = 10000$ значень випадкової величини $\\xi$;\n",
    "2. Реалізуйте 2 сабплоти в одному рядку;\n",
    "3. На першому сабплоті намалюйте:\n",
    "   - нормовану гістограму згенерованих $n = 10000$ значень випадкової величини $\\xi$;\n",
    "   - функцію щільності випадкової величини $\\xi$;\n",
    "4. Отримайте $n = 10000$ значень випадкової величини $|\\xi|$ (застосуйте функцію модуль до згенерованих $n = 10000$ значень випадкової величини $\\xi$);\n",
    "5. На другому сабплоті намалюйте:\n",
    "   - нормовану гістограму отриманих $n = 10000$ значень випадкової величини $|\\xi|$;\n",
    "   - функцію щільності випадкової величини $\\xi$;\n",
    "   - функцію щільності випадкової величини $|\\xi|$."
   ]
  },
  {
   "cell_type": "code",
   "execution_count": 50,
   "metadata": {},
   "outputs": [],
   "source": [
    "def abs_unif_pdf(x):\n",
    "    return np.where(x < 1, 0.4, 0.2)"
   ]
  },
  {
   "cell_type": "code",
   "execution_count": 60,
   "metadata": {},
   "outputs": [
    {
     "data": {
      "image/png": "[encoded data removed]",
      "text/plain": [
       "<Figure size 792x432 with 2 Axes>"
      ]
     },
     "metadata": {},
     "output_type": "display_data"
    }
   ],
   "source": [
    "xi = uniform(-1, 5)\n",
    "plt.figure(figsize=(11, 6))\n",
    "\n",
    "plt.subplot(121)\n",
    "xi_rvs = xi.rvs(size=SIZE)\n",
    "plt.hist(xi_rvs, density=True, bins='auto')\n",
    "x = np.linspace(-1, 4, SIZE)\n",
    "plt.plot(x, xi.pdf(x))\n",
    "\n",
    "plt.subplot(122)\n",
    "abs_xi_rvs = np.abs(xi_rvs)\n",
    "plt.hist(abs_xi_rvs, density=True, bins='auto')\n",
    "x = np.linspace(0, 4, SIZE)\n",
    "plt.plot(x, xi.pdf(x))\n",
    "plt.plot(x, abs_unif_pdf(x))\n",
    "\n",
    "plt.show()\n",
    "\n",
    "\n"
   ]
  },
  {
   "cell_type": "markdown",
   "metadata": {},
   "source": [
    "### 2.3 Експоненційний розподіл"
   ]
  },
  {
   "cell_type": "markdown",
   "metadata": {},
   "source": [
    "Розглянемо випадкову величину $\\xi$ зі стандартного експоненційного розподілу.\n",
    "Тобто $\\xi \\sim Exp(1)$.\n",
    "\n",
    "1. Згенеруйте $n = 10000$ значень випадкової величини $\\xi$;\n",
    "2. Реалізуйте 2 сабплоти в одному рядку;\n",
    "3. На першому сабплоті намалюйте:\n",
    "   - нормовану гістограму згенерованих $n = 10000$ значень випадкової величини $\\xi$;\n",
    "   - функцію щільності випадкової величини $\\xi$;\n",
    "4. Отримайте $n = 10000$ значень випадкової величини $|\\xi|$ (застосуйте функцію модуль до згенерованих $n = 10000$ значень випадкової величини $\\xi$);\n",
    "5. На другому сабплоті намалюйте:\n",
    "   - нормовану гістограму отриманих $n = 10000$ значень випадкової величини $|\\xi|$;\n",
    "   - функцію щільності випадкової величини $\\xi$;\n",
    "   - функцію щільності випадкової величини $|\\xi|$."
   ]
  },
  {
   "cell_type": "code",
   "execution_count": 61,
   "metadata": {},
   "outputs": [],
   "source": [
    "from scipy.stats import expon"
   ]
  },
  {
   "cell_type": "code",
   "execution_count": 69,
   "metadata": {},
   "outputs": [],
   "source": [
    "def abs_expon_pdf(x):\n",
    "    return expon().pdf(x)"
   ]
  },
  {
   "cell_type": "code",
   "execution_count": 70,
   "metadata": {
    "scrolled": false
   },
   "outputs": [
    {
     "data": {
      "image/png": "[encoded data removed]",
      "text/plain": [
       "<Figure size 792x432 with 2 Axes>"
      ]
     },
     "metadata": {},
     "output_type": "display_data"
    }
   ],
   "source": [
    "xi = expon()\n",
    "plt.figure(figsize=(11, 6))\n",
    "\n",
    "plt.subplot(121)\n",
    "xi_rvs = xi.rvs(size=SIZE)\n",
    "plt.hist(xi_rvs, density=True, bins='auto')\n",
    "x = np.linspace(0, 8, SIZE)\n",
    "plt.plot(x, xi.pdf(x))\n",
    "\n",
    "plt.subplot(122)\n",
    "abs_xi_rvs = np.abs(xi_rvs)\n",
    "plt.hist(abs_xi_rvs, density=True, bins='auto')\n",
    "x = np.linspace(0, 4, SIZE)\n",
    "plt.plot(x, xi.pdf(x))\n",
    "plt.plot(x, abs_expon_pdf(x))\n",
    "\n",
    "plt.show()\n",
    "\n",
    "\n"
   ]
  },
  {
   "cell_type": "markdown",
   "metadata": {},
   "source": [
    "## 3 Квадрат від випадкової величини"
   ]
  },
  {
   "cell_type": "markdown",
   "metadata": {},
   "source": [
    "### 3.1 Рівномірний розподіл"
   ]
  },
  {
   "cell_type": "markdown",
   "metadata": {},
   "source": [
    "Розглянемо випадкову величину $\\xi$ зі стандартного рівномірного розподілу.\n",
    "Тобто $\\xi \\sim Unif(0, 1)$.\n",
    "\n",
    "1. Згенеруйте $n = 10000$ значень випадкової величини $\\xi$;\n",
    "2. Реалізуйте 2 сабплоти в одному рядку;\n",
    "3. На першому сабплоті намалюйте:\n",
    "   - нормовану гістограму згенерованих $n = 10000$ значень випадкової величини $\\xi$;\n",
    "   - функцію щільності випадкової величини $\\xi$;\n",
    "4. Отримайте $n = 10000$ значень випадкової величини $\\xi^2$ (застосуйте функцію піднесення до квадрата до згенерованих $n = 10000$ значень випадкової величини $\\xi$);\n",
    "5. На другому сабплоті намалюйте:\n",
    "   - нормовану гістограму отриманих $n = 10000$ значень випадкової величини $\\xi^2$;\n",
    "   - функцію щільності випадкової величини $\\xi$;\n",
    "   - функцію щільності випадкової величини $\\xi^2$."
   ]
  },
  {
   "cell_type": "code",
   "execution_count": 78,
   "metadata": {},
   "outputs": [
    {
     "data": {
      "image/png": "[encoded data removed]",
      "text/plain": [
       "<Figure size 792x432 with 2 Axes>"
      ]
     },
     "metadata": {},
     "output_type": "display_data"
    }
   ],
   "source": [
    "xi = uniform()\n",
    "plt.figure(figsize=(11, 6))\n",
    "\n",
    "plt.subplot(121)\n",
    "xi_rvs = xi.rvs(size=SIZE)\n",
    "plt.hist(xi_rvs, density=True, bins=10)\n",
    "x = np.linspace(0, 1, SIZE)\n",
    "plt.plot(x, xi.pdf(x))\n",
    "\n",
    "plt.subplot(122)\n",
    "sqr_xi_rvs = xi_rvs ** 2\n",
    "plt.hist(sqr_xi_rvs, density=True, bins='auto')\n",
    "x = np.linspace(0, 1, SIZE)\n",
    "plt.plot(x, xi.pdf(x))\n",
    "# plt.plot(x, abs_norm_pdf(x))\n",
    "\n",
    "plt.show()\n",
    "\n"
   ]
  },
  {
   "cell_type": "markdown",
   "metadata": {},
   "source": [
    "### 3.2 Нормальний розподіл"
   ]
  },
  {
   "cell_type": "markdown",
   "metadata": {},
   "source": [
    "Розглянемо випадкову величину $\\xi$ зі стандартного нормального розподілу.\n",
    "Тобто $\\xi \\sim N(0, 1)$.\n",
    "\n",
    "1. Згенеруйте $n = 10000$ значень випадкової величини $\\xi$;\n",
    "2. Реалізуйте 2 сабплоти в одному рядку;\n",
    "3. На першому сабплоті намалюйте:\n",
    "   - нормовану гістограму згенерованих $n = 10000$ значень випадкової величини $\\xi$;\n",
    "   - функцію щільності випадкової величини $\\xi$;\n",
    "4. Отримайте $n = 10000$ значень випадкової величини $\\xi^2$ (застосуйте функцію піднесення до квадрата до згенерованих $n = 10000$ значень випадкової величини $\\xi$);\n",
    "5. На другому сабплоті намалюйте:\n",
    "   - нормовану гістограму отриманих $n = 10000$ значень випадкової величини $\\xi^2$;\n",
    "   - функцію щільності випадкової величини $\\xi$;\n",
    "   - функцію щільності випадкової величини $\\xi^2$;\n",
    "   - функцію щільності випадкової величини $\\eta \\sim \\chi^2_1$;\n",
    "   - функцію щільності випадкової величини $\\eta \\sim \\Gamma(1/2, 1/2)$."
   ]
  },
  {
   "cell_type": "code",
   "execution_count": 8,
   "metadata": {},
   "outputs": [],
   "source": [
    "# Місце для Вашого коду\n",
    "\n"
   ]
  },
  {
   "cell_type": "markdown",
   "metadata": {},
   "source": [
    "## 4 Відсутність пам'яті"
   ]
  },
  {
   "cell_type": "markdown",
   "metadata": {},
   "source": [
    "Розглянемо випадкову величину $\\xi$ зі стандартного експоненційного розподілу.\n",
    "Тобто $\\xi \\sim Exp(1)$.\n",
    "\n",
    "1. Згенеруйте $n = 10000$ значень випадкової величини $\\xi$;\n",
    "2. Реалізуйте 2 сабплоти в одному рядку;\n",
    "3. На першому сабплоті намалюйте:\n",
    "   - нормовану гістограму згенерованих $n = 10000$ значень випадкової величини $\\xi$;\n",
    "   - функцію щільності випадкової величини $\\xi$;\n",
    "4. Отримайте $n = 10000$ значень випадкової величини $\\eta = (\\xi - 1) I_{(\\xi - 1) \\geq 0}$;\n",
    "5. На другому сабплоті намалюйте:\n",
    "   - нормовану гістограму отриманих $n = 10000$ значень випадкової величини $\\eta$;\n",
    "   - функцію щільності випадкової величини $\\xi$."
   ]
  },
  {
   "cell_type": "code",
   "execution_count": 9,
   "metadata": {},
   "outputs": [],
   "source": [
    "# Місце для Вашого коду\n",
    "\n"
   ]
  },
  {
   "cell_type": "markdown",
   "metadata": {
    "collapsed": true
   },
   "source": [
    "## 5 Одиничний квадрат"
   ]
  },
  {
   "cell_type": "markdown",
   "metadata": {},
   "source": [
    "Реалізуйте вадкову величину рівномірно розподілену на одиничному квадраті.\n",
    "Тобто $\\xi = (x, y), \\quad x, y \\sim Unif(0, 1)$."
   ]
  },
  {
   "cell_type": "code",
   "execution_count": 10,
   "metadata": {
    "collapsed": true
   },
   "outputs": [],
   "source": [
    "# Місце для Вашого коду\n",
    "\n"
   ]
  },
  {
   "cell_type": "markdown",
   "metadata": {},
   "source": [
    "Знайдіть функцію щільності випадкової величини $\\xi_1 = x + y$.\n",
    "Намалюйте її разом із нормованою гістограмою випадкової величини $\\xi_1$, отриманою перетвореннями в.в. $x, y$."
   ]
  },
  {
   "cell_type": "code",
   "execution_count": 11,
   "metadata": {},
   "outputs": [],
   "source": [
    "# Місце для Вашого коду\n",
    "\n"
   ]
  },
  {
   "cell_type": "markdown",
   "metadata": {},
   "source": [
    "Знайдіть функцію щільності випадкової величини $\\xi_2 = xy$.\n",
    "Намалюйте її разом із нормованою гістограмою випадкової величини $\\xi_2$, отриманою перетвореннями в.в. $x, y$."
   ]
  },
  {
   "cell_type": "code",
   "execution_count": 12,
   "metadata": {},
   "outputs": [],
   "source": [
    "# Місце для Вашого коду\n",
    "\n"
   ]
  },
  {
   "cell_type": "markdown",
   "metadata": {},
   "source": [
    "Знайдіть функцію щільності випадкової величини $\\xi_3 = \\min (x, y)$.\n",
    "Намалюйте її разом із нормованою гістограмою випадкової величини $\\xi_3$, отриманою перетвореннями в.в. $x, y$."
   ]
  },
  {
   "cell_type": "code",
   "execution_count": 13,
   "metadata": {},
   "outputs": [],
   "source": [
    "# Місце для Вашого коду\n",
    "\n"
   ]
  },
  {
   "cell_type": "code",
   "execution_count": null,
   "metadata": {
    "collapsed": true
   },
   "outputs": [],
   "source": []
  }
 ],
 "metadata": {
  "kernelspec": {
   "display_name": "Python 3",
   "language": "python",
   "name": "python3"
  },
  "language_info": {
   "codemirror_mode": {
    "name": "ipython",
    "version": 3
   },
   "file_extension": ".py",
   "mimetype": "text/x-python",
   "name": "python",
   "nbconvert_exporter": "python",
   "pygments_lexer": "ipython3",
   "version": "3.6.5"
  }
 },
 "nbformat": 4,
 "nbformat_minor": 1
}
