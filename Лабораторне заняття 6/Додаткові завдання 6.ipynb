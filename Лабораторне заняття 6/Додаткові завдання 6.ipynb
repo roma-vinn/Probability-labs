{
 "cells": [
  {
   "cell_type": "markdown",
   "metadata": {},
   "source": [
    "# Додаткові завдання №6"
   ]
  },
  {
   "cell_type": "markdown",
   "metadata": {},
   "source": [
    "## 1 Парадокс днів народження"
   ]
  },
  {
   "cell_type": "markdown",
   "metadata": {},
   "source": [
    "Нехай маємо $n$ людей.\n",
    "Їх дні народження припадають на один з 12 місяців.\n",
    "Нехай тоді випадкова величина $\\xi$ - це кількість співпадінь місяців народжень серед цих $n$ людей.\n",
    "\n",
    "Напишіть функцію для обрахунку щільності випадкової величини $\\xi$ (тобто усі ймовірності $\\mathsf{P}(\\xi = k)$ для відповідних значень $k$) в залежності від кількості $n$ людей методом повного перебору.\n",
    "Виведіть результат для $n = 1, 2, 3, 4, 5, 6.$\n",
    "\n",
    "Напишіть теоретичні формули для щільності випадкової величини $\\xi$.\n",
    "Порівняйте теоретичні значення з обчисленими повним перебором.\n",
    "\n",
    "Для якого $n$ ймовірність хоча б одного співпадіння не менша $\\frac{1}{2}$ (тобто $\\mathsf{P}(\\xi > 0) \\geq \\frac{1}{2}$)?\n",
    "\n",
    "**Зауваження.** Кількість співпадінь означає кількість однакових пар. Наприклад,\n",
    "- у наборі $\\{ 1, 1, 2, 3 \\}$ є одна пара;\n",
    "- у наборі $\\{ 1, 1, 1, 3 \\}$ є три пари;\n",
    "- у наборі $\\{ 1, 1, 1, 1 \\}$ є шість пар."
   ]
  },
  {
   "cell_type": "code",
   "execution_count": 18,
   "metadata": {},
   "outputs": [],
   "source": [
    "from itertools import product\n",
    "from math import factorial"
   ]
  },
  {
   "cell_type": "code",
   "execution_count": 6,
   "metadata": {},
   "outputs": [
    {
     "name": "stdout",
     "output_type": "stream",
     "text": [
      "1\n",
      "3\n",
      "6\n"
     ]
    }
   ],
   "source": [
    "def count_pairs(arr):\n",
    "    pairs = 0\n",
    "    for i, elem in enumerate(arr[:-1]):\n",
    "        pairs += arr[i+1:].count(elem)\n",
    "    return pairs\n",
    "\n",
    "print(count_pairs([1, 1, 2, 3]))\n",
    "print(count_pairs([1, 1, 1, 3]))\n",
    "print(count_pairs([1, 1, 1, 1]))"
   ]
  },
  {
   "cell_type": "code",
   "execution_count": 7,
   "metadata": {},
   "outputs": [],
   "source": [
    "def hb_days_empirical(n):\n",
    "    x = dict()\n",
    "    for days in product(range(12), repeat=n):\n",
    "        p = count_pairs(days)\n",
    "        if p in x:\n",
    "            x[p] += 1\n",
    "        else:\n",
    "            x[p] = 1\n",
    "            \n",
    "    for i in x:\n",
    "        x[i] /= 12**n\n",
    "    \n",
    "    return(x)"
   ]
  },
  {
   "cell_type": "code",
   "execution_count": 22,
   "metadata": {},
   "outputs": [],
   "source": [
    "def hb_days_theoretical(n):\n",
    "    return factorial(12)/(pow(12, n) * factorial(12 - n))"
   ]
  },
  {
   "cell_type": "code",
   "execution_count": 23,
   "metadata": {},
   "outputs": [],
   "source": [
    "# type(x) == dict\n",
    "def show_results(x):\n",
    "    \n",
    "    print(f\"\\tP(ξ > 0) = {1-x.get(0)}\\n\")\n",
    "    for n, p in x.items():\n",
    "        print(f\"\\tp(ξ = {n}) = {p}\\n\")"
   ]
  },
  {
   "cell_type": "code",
   "execution_count": 24,
   "metadata": {},
   "outputs": [
    {
     "name": "stdout",
     "output_type": "stream",
     "text": [
      "Empirical for n = 1:\n",
      "\n",
      "\tP(ξ > 0) = 0.0\n",
      "\n",
      "\tp(ξ = 0) = 1.0\n",
      "\n",
      "Theoretical for n = 1:\n",
      "\n",
      "\tP(ξ > 0) = 0.0\n",
      "\n",
      "\n",
      "Empirical for n = 2:\n",
      "\n",
      "\tP(ξ > 0) = 0.08333333333333337\n",
      "\n",
      "\tp(ξ = 1) = 0.08333333333333333\n",
      "\n",
      "\tp(ξ = 0) = 0.9166666666666666\n",
      "\n",
      "Theoretical for n = 2:\n",
      "\n",
      "\tP(ξ > 0) = 0.08333333333333337\n",
      "\n",
      "\n",
      "Empirical for n = 3:\n",
      "\n",
      "\tP(ξ > 0) = 0.23611111111111116\n",
      "\n",
      "\tp(ξ = 3) = 0.006944444444444444\n",
      "\n",
      "\tp(ξ = 1) = 0.22916666666666666\n",
      "\n",
      "\tp(ξ = 0) = 0.7638888888888888\n",
      "\n",
      "Theoretical for n = 3:\n",
      "\n",
      "\tP(ξ > 0) = 0.23611111111111116\n",
      "\n",
      "\n",
      "Empirical for n = 4:\n",
      "\n",
      "\tP(ξ > 0) = 0.42708333333333337\n",
      "\n",
      "\tp(ξ = 6) = 0.0005787037037037037\n",
      "\n",
      "\tp(ξ = 3) = 0.02546296296296296\n",
      "\n",
      "\tp(ξ = 2) = 0.019097222222222224\n",
      "\n",
      "\tp(ξ = 1) = 0.3819444444444444\n",
      "\n",
      "\tp(ξ = 0) = 0.5729166666666666\n",
      "\n",
      "Theoretical for n = 4:\n",
      "\n",
      "\tP(ξ > 0) = 0.42708333333333337\n",
      "\n",
      "\n",
      "Empirical for n = 5:\n",
      "\n",
      "\tP(ξ > 0) = 0.6180555555555556\n",
      "\n",
      "\tp(ξ = 10) = 4.8225308641975306e-05\n",
      "\n",
      "\tp(ξ = 6) = 0.002652391975308642\n",
      "\n",
      "\tp(ξ = 4) = 0.005304783950617284\n",
      "\n",
      "\tp(ξ = 3) = 0.05304783950617284\n",
      "\n",
      "\tp(ξ = 2) = 0.07957175925925926\n",
      "\n",
      "\tp(ξ = 1) = 0.4774305555555556\n",
      "\n",
      "\tp(ξ = 0) = 0.3819444444444444\n",
      "\n",
      "Theoretical for n = 5:\n",
      "\n",
      "\tP(ξ > 0) = 0.6180555555555556\n",
      "\n",
      "\n",
      "Empirical for n = 6:\n",
      "\n",
      "\tP(ξ > 0) = 0.7771990740740741\n",
      "\n",
      "\tp(ξ = 15) = 4.018775720164609e-06\n",
      "\n",
      "\tp(ξ = 10) = 0.0002652391975308642\n",
      "\n",
      "\tp(ξ = 7) = 0.0006630979938271605\n",
      "\n",
      "\tp(ξ = 6) = 0.007073045267489712\n",
      "\n",
      "\tp(ξ = 4) = 0.02652391975308642\n",
      "\n",
      "\tp(ξ = 3) = 0.08620273919753087\n",
      "\n",
      "\tp(ξ = 2) = 0.17903645833333334\n",
      "\n",
      "\tp(ξ = 1) = 0.4774305555555556\n",
      "\n",
      "\tp(ξ = 0) = 0.22280092592592593\n",
      "\n",
      "Theoretical for n = 6:\n",
      "\n",
      "\tP(ξ > 0) = 0.7771990740740741\n",
      "\n",
      "\n"
     ]
    }
   ],
   "source": [
    "for n in range(1, 7):\n",
    "    x = hb_days_empirical(n)\n",
    "    print(f\"Empirical for n = {n}:\\n\")\n",
    "    show_results(x)\n",
    "    print(f\"Theoretical for n = {n}:\\n\")\n",
    "    xt = hb_days_theoretical(n)\n",
    "    print(f\"\\tP(ξ > 0) = {1-xt}\\n\")\n",
    "    print()"
   ]
  },
  {
   "cell_type": "code",
   "execution_count": null,
   "metadata": {},
   "outputs": [],
   "source": []
  }
 ],
 "metadata": {
  "kernelspec": {
   "display_name": "Python 3",
   "language": "python",
   "name": "python3"
  },
  "language_info": {
   "codemirror_mode": {
    "name": "ipython",
    "version": 3
   },
   "file_extension": ".py",
   "mimetype": "text/x-python",
   "name": "python",
   "nbconvert_exporter": "python",
   "pygments_lexer": "ipython3",
   "version": "3.6.5"
  }
 },
 "nbformat": 4,
 "nbformat_minor": 1
}
