{
 "cells": [
  {
   "cell_type": "markdown",
   "metadata": {},
   "source": [
    "# Домашня робота №6"
   ]
  },
  {
   "cell_type": "markdown",
   "metadata": {},
   "source": [
    "# Математичне сподівання та дисперсія"
   ]
  },
  {
   "cell_type": "markdown",
   "metadata": {},
   "source": [
    "## 1 Порівняння"
   ]
  },
  {
   "cell_type": "markdown",
   "metadata": {},
   "source": [
    "1. Реалізуйте функцію для підрахунку математичного сподівання випадкової величини $\\xi$, заданої в класі **scipy.stats**, усіма можливими способами:\n",
    "   - за допомогою методу **mean**;\n",
    "   - за допомогою методу **expect**;\n",
    "   - за допомогою методу **stats**.\n",
    "\n",
    "2. Реалізуйте функцію для підрахунку дисперсії випадкової величини $\\xi$, заданої в класі **scipy.stats**, усіма можливими способами:\n",
    "   - за допомогою методу **var**;\n",
    "   - за допомогою методу **expect** та формули для дисперсії \n",
    "$\\mathsf{D}(\\xi) = \\mathsf{E} \\left[ \\left( \\xi - \\mathsf{E}[\\xi] \\right)^2 \\right]$;\n",
    "   - за допомогою методу **expect** та формули для дисперсії\n",
    "$\\mathsf{D}(\\xi) = \\mathsf{E}[\\xi^2] - \\left( \\mathsf{E}[\\xi] \\right)^2$;\n",
    "   - за допомогою методу **stats**.\n",
    "\n",
    "3. Порахуйте математичне сподівання та дисперсію, використовуючи функції з пунктів **1., 2.**, і порівняйте (виведіть різницю) їх із теоретичними значеннями, використовуючи формули з лекцій, для таких випадкових величин:\n",
    "   - $\\xi \\sim Binom(10, 0.4)$ (біноміальний розподіл);\n",
    "   - $\\xi \\sim Geom(0.5)$ (геометричний розподіл);\n",
    "   - $\\xi \\sim Pois(0.6)$ (розподіл Пуассона);\n",
    "   - $\\xi \\sim NBinom(5, 0.4)$ (від'ємний біноміальний розподіл);\n",
    "   - $\\xi \\sim HGeom(20, 7, 12)$ (гіпергеометричний розподіл);\n",
    "   - $\\xi \\sim Unif(0, 1)$ (рівномірний розподіл);\n",
    "   - $\\xi \\sim Exp(0.5)$ (експоненційний (показниковий) розподіл);\n",
    "   - $\\xi \\sim N(0, 1)$ (нормальний розподіл);\n",
    "   - $\\xi \\sim \\Gamma(2)$ (гамма розподіл);\n",
    "   - $\\xi \\sim LogNorm(0, 1)$ (логнормальний розподіл);\n",
    "   - $\\xi \\sim B(2, 1.1)$ (бета розподіл)."
   ]
  },
  {
   "cell_type": "code",
   "execution_count": 18,
   "metadata": {},
   "outputs": [],
   "source": [
    "import numpy as np"
   ]
  },
  {
   "cell_type": "code",
   "execution_count": 19,
   "metadata": {},
   "outputs": [],
   "source": [
    "def expectation(xi):\n",
    "    return(xi.mean(),\n",
    "           xi.expect(),\n",
    "           xi.stats()[0])\n",
    "\n",
    "def variance(xi):\n",
    "    return(xi.var(),\n",
    "           xi.expect(lambda x: (x - xi.expect())**2),\n",
    "           xi.expect(lambda x: x**2) - (xi.expect())**2,\n",
    "           xi.stats()[1])"
   ]
  },
  {
   "cell_type": "code",
   "execution_count": 20,
   "metadata": {},
   "outputs": [],
   "source": [
    "def output(expect, var, th):\n",
    "    E = th[0]\n",
    "    V = th[1]\n",
    "    print(f\"Theoretical expectation: {E}\\nTheoretical variance: {V}\\n\")\n",
    "    print(f\"Differences in expectation: \")\n",
    "    for e in expect:\n",
    "        print(abs(E-e), end=' ')\n",
    "    print()\n",
    "    print(f\"Differences in variance: \")\n",
    "    for v in var:\n",
    "        print(abs(V-v), end=' ')"
   ]
  },
  {
   "cell_type": "code",
   "execution_count": 21,
   "metadata": {},
   "outputs": [
    {
     "name": "stdout",
     "output_type": "stream",
     "text": [
      "Theoretical expectation: 4.0\n",
      "Theoretical variance: 2.4\n",
      "\n",
      "Differences in expectation: \n",
      "0.0 3.552713678800501e-15 0.0 \n",
      "Differences in variance: \n",
      "0.0 1.3322676295501878e-15 4.884981308350689e-15 0.0 "
     ]
    }
   ],
   "source": [
    "from scipy.stats import binom\n",
    "def binom_th(n, p):\n",
    "    return (n*p, n*p*(1-p))\n",
    "\n",
    "n = 10\n",
    "p = 0.4\n",
    "output(expectation(binom(n, p)), variance(binom(n, p)), binom_th(n, p))"
   ]
  },
  {
   "cell_type": "code",
   "execution_count": 22,
   "metadata": {},
   "outputs": [
    {
     "name": "stdout",
     "output_type": "stream",
     "text": [
      "Theoretical expectation: 2.0\n",
      "Theoretical variance: 2.0\n",
      "\n",
      "Differences in expectation: \n",
      "0.0 0.0 0.0 \n",
      "Differences in variance: \n",
      "0.0 0.0 0.0 0.0 "
     ]
    }
   ],
   "source": [
    "from scipy.stats import geom\n",
    "def geom_th(p):\n",
    "    return(1/p, (1-p)/p**2)\n",
    "p = 0.5\n",
    "output(expectation(geom(p)), variance(geom(p)), geom_th(p))"
   ]
  },
  {
   "cell_type": "code",
   "execution_count": 23,
   "metadata": {},
   "outputs": [
    {
     "name": "stdout",
     "output_type": "stream",
     "text": [
      "Theoretical expectation: 0.6\n",
      "Theoretical variance: 0.6\n",
      "\n",
      "Differences in expectation: \n",
      "0.0 0.0 0.0 \n",
      "Differences in variance: \n",
      "0.0 1.1102230246251565e-16 0.0 0.0 "
     ]
    }
   ],
   "source": [
    "from scipy.stats import poisson\n",
    "def poisson_th(lmd):\n",
    "    return(lmd, lmd)\n",
    "lmd = 0.6\n",
    "output(expectation(poisson(lmd)), variance(poisson(lmd)), poisson_th(lmd))"
   ]
  },
  {
   "cell_type": "code",
   "execution_count": 25,
   "metadata": {},
   "outputs": [
    {
     "name": "stdout",
     "output_type": "stream",
     "text": [
      "Theoretical expectation: 7.5\n",
      "Theoretical variance: 18.749999999999996\n",
      "\n",
      "Differences in expectation: \n",
      "0.0 6.217248937900877e-15 0.0 \n",
      "Differences in variance: \n",
      "3.552713678800501e-15 1.0658141036401503e-14 3.197442310920451e-14 3.552713678800501e-15 "
     ]
    }
   ],
   "source": [
    "from scipy.stats import nbinom\n",
    "def nbinom_th(n, p):\n",
    "    return((1-p)*n/p, (1-p)*n/p**2)\n",
    "n = 5\n",
    "p = 0.4\n",
    "output(expectation(nbinom(n, p)), variance(nbinom(n, p)), nbinom_th(n, p))"
   ]
  },
  {
   "cell_type": "code",
   "execution_count": 26,
   "metadata": {},
   "outputs": [
    {
     "name": "stdout",
     "output_type": "stream",
     "text": [
      "Theoretical expectation: 4.2\n",
      "Theoretical variance: 1.1494736842105264\n",
      "\n",
      "Differences in expectation: \n",
      "8.881784197001252e-16 5.329070518200751e-15 8.881784197001252e-16 \n",
      "Differences in variance: \n",
      "0.0 1.7763568394002505e-15 1.4654943925052066e-14 0.0 "
     ]
    }
   ],
   "source": [
    "from scipy.stats import hypergeom\n",
    "def hypergeom_th(N, n, m):\n",
    "    return(m*n/N, m*n*(N-n)*(N-m)/(N**2 * (N-1)))\n",
    "N = 20\n",
    "n = 7\n",
    "m = 12\n",
    "output(expectation(hypergeom(N, n, m)), variance(hypergeom(N, n, m)), hypergeom_th(N, n, m))"
   ]
  },
  {
   "cell_type": "code",
   "execution_count": 27,
   "metadata": {},
   "outputs": [
    {
     "name": "stdout",
     "output_type": "stream",
     "text": [
      "Theoretical expectation: 0.5\n",
      "Theoretical variance: 0.08333333333333333\n",
      "\n",
      "Differences in expectation: \n",
      "0.0 0.0 0.0 \n",
      "Differences in variance: \n",
      "0.0 0.0 4.163336342344337e-17 0.0 "
     ]
    }
   ],
   "source": [
    "from scipy.stats import uniform\n",
    "def uniform_th(a, b):\n",
    "    return((a+b)/2, (b-a)**2/12)\n",
    "a = 0\n",
    "b = 1\n",
    "output(expectation(uniform(a, b)), variance(uniform(a, b)), uniform_th(a, b))"
   ]
  },
  {
   "cell_type": "code",
   "execution_count": 30,
   "metadata": {},
   "outputs": [
    {
     "name": "stdout",
     "output_type": "stream",
     "text": [
      "Theoretical expectation: 2.0\n",
      "Theoretical variance: 4.0\n",
      "\n",
      "Differences in expectation: \n",
      "0.0 2.220446049250313e-16 0.0 \n",
      "Differences in variance: \n",
      "0.0 0.0 8.881784197001252e-16 0.0 "
     ]
    }
   ],
   "source": [
    "from scipy.stats import expon\n",
    "def expon_th(lmd):\n",
    "    return(1/lmd, 1/lmd**2)\n",
    "lmd = 0.5\n",
    "scale = 1/lmd\n",
    "output(expectation(expon(scale=scale)), variance(expon(scale=scale)), expon_th(lmd))"
   ]
  },
  {
   "cell_type": "code",
   "execution_count": 31,
   "metadata": {},
   "outputs": [
    {
     "name": "stdout",
     "output_type": "stream",
     "text": [
      "Theoretical expectation: 0\n",
      "Theoretical variance: 1\n",
      "\n",
      "Differences in expectation: \n",
      "0.0 0.0 0.0 \n",
      "Differences in variance: \n",
      "0.0 1.1102230246251565e-15 1.1102230246251565e-15 0.0 "
     ]
    }
   ],
   "source": [
    "from scipy.stats import norm\n",
    "def norm_th(mu, sigm):\n",
    "    return(mu, sigm)\n",
    "mu = 0\n",
    "sigm = 1\n",
    "output(expectation(norm(mu, sigm)), variance(norm(mu, sigm)), norm_th(mu, sigm))"
   ]
  },
  {
   "cell_type": "code",
   "execution_count": 33,
   "metadata": {},
   "outputs": [
    {
     "name": "stdout",
     "output_type": "stream",
     "text": [
      "Theoretical expectation: 2\n",
      "Theoretical variance: 2\n",
      "\n",
      "Differences in expectation: \n",
      "0.0 0.0 0.0 \n",
      "Differences in variance: \n",
      "0.0 4.440892098500626e-16 0.0 0.0 "
     ]
    }
   ],
   "source": [
    "from scipy.stats import gamma\n",
    "def gamma_th(alpha):\n",
    "    return(alpha, alpha)\n",
    "alpha = 2\n",
    "output(expectation(gamma(alpha)), variance(gamma(alpha)), gamma_th(alpha))"
   ]
  },
  {
   "cell_type": "code",
   "execution_count": 37,
   "metadata": {},
   "outputs": [
    {
     "name": "stdout",
     "output_type": "stream",
     "text": [
      "Theoretical expectation: 1.6487212707001282\n",
      "Theoretical variance: 4.670774270471604\n",
      "\n",
      "Differences in expectation: \n",
      "0.0 1.5054624213917123e-13 0.0 \n",
      "Differences in variance: \n",
      "0.0 1.9417356611484138e-11 4.2296832702959364e-11 0.0 "
     ]
    }
   ],
   "source": [
    "from math import exp\n",
    "from scipy.stats import lognorm\n",
    "def lognorm_th(mu, sigm):\n",
    "    return(exp(mu + sigm/2), (exp(sigm) - 1)*(exp(2*mu + sigm)))\n",
    "mu = 0\n",
    "scale = np.exp(mu)\n",
    "sigm = 1\n",
    "output(expectation(lognorm(sigm, scale=scale)), variance(lognorm(sigm, scale=scale)), lognorm_th(mu, sigm))"
   ]
  },
  {
   "cell_type": "code",
   "execution_count": 38,
   "metadata": {},
   "outputs": [
    {
     "name": "stdout",
     "output_type": "stream",
     "text": [
      "Theoretical expectation: 0.6451612903225806\n",
      "Theoretical variance: 0.055836146290703284\n",
      "\n",
      "Differences in expectation: \n",
      "0.0 3.3306690738754696e-16 0.0 \n",
      "Differences in variance: \n",
      "6.938893903907228e-18 2.300937218535637e-14 2.0816681711721685e-16 6.938893903907228e-18 "
     ]
    }
   ],
   "source": [
    "from scipy.stats import beta\n",
    "def beta_th(a, b):\n",
    "    return(a/(a+b), a*b/((a+b)**2 * (a + b + 1)))\n",
    "a = 2\n",
    "b = 1.1\n",
    "output(expectation(beta(a, b)), variance(beta(a, b)), beta_th(a, b))"
   ]
  },
  {
   "cell_type": "markdown",
   "metadata": {},
   "source": [
    "## 2 Унікальні цифри"
   ]
  },
  {
   "cell_type": "markdown",
   "metadata": {},
   "source": [
    "Нехай випадковим чином вибирають послідовно $n$ цифр (цифри можуть повторюватися, вибірка з поверненням).\n",
    "Нехай тоді випадкова величина $\\xi$ - це кількість унікальних цифр в отриманому наборі.\n",
    "\n",
    "Напишіть функцію для обрахунку математичного сподівання та дисперсії випадкової величини $\\xi$ в залежності від кількості $n$ цифр у наборі методом повного перебору.\n",
    "Виведіть результат для $n = 1, 2, 3, 4, 5, 6, 7.$"
   ]
  },
  {
   "cell_type": "code",
   "execution_count": 41,
   "metadata": {},
   "outputs": [],
   "source": [
    "def expectation(pk, xk):\n",
    "    return sum(x*y for x, y in zip(pk, xk))\n",
    "\n",
    "def variance(pk, xk):\n",
    "    g_xk = (xk - expectation(pk, xk))**2\n",
    "    return(expectation(pk, g_xk))"
   ]
  },
  {
   "cell_type": "code",
   "execution_count": 42,
   "metadata": {},
   "outputs": [],
   "source": [
    "from itertools import product\n",
    "def unique_nums(n):\n",
    "    xi = np.zeros(n+1)\n",
    "    xk = np.arange(0, 10)\n",
    "    for seq in product(range(10), repeat=n):\n",
    "        xi[len(set(seq))] += 1\n",
    "    pk = xi / 10**n\n",
    "    E = expectation(pk, xk)\n",
    "    V = variance(pk, xk)\n",
    "    return(E, V)"
   ]
  },
  {
   "cell_type": "code",
   "execution_count": 43,
   "metadata": {},
   "outputs": [
    {
     "name": "stdout",
     "output_type": "stream",
     "text": [
      "for n = 1:\n",
      "\tE = 1.0\n",
      "\tV = 0.0\n",
      "for n = 2:\n",
      "\tE = 1.9000000000000001\n",
      "\tV = 0.09000000000000001\n",
      "for n = 3:\n",
      "\tE = 2.71\n",
      "\tV = 0.22590000000000002\n",
      "for n = 4:\n",
      "\tE = 3.439\n",
      "\tV = 0.378279\n",
      "for n = 5:\n",
      "\tE = 4.0951\n",
      "\tV = 0.52825599\n",
      "for n = 6:\n",
      "\tE = 4.6855899999999995\n",
      "\tV = 0.6644163518999999\n",
      "for n = 7:\n",
      "\tE = 5.2170309999999995\n",
      "\tV = 0.7805445450390001\n"
     ]
    }
   ],
   "source": [
    "for n in range(1, 8):\n",
    "    e, v = unique_nums(n)\n",
    "    print(f\"for n = {n}:\\n\\tE = {e}\\n\\tV = {v}\")"
   ]
  },
  {
   "cell_type": "markdown",
   "metadata": {},
   "source": [
    "## 3 Максимальне значення"
   ]
  },
  {
   "cell_type": "markdown",
   "metadata": {},
   "source": [
    "Нехай випадкова величина $\\xi$ - це максимальне значення після $n$ кидків грального кубика.\n",
    "\n",
    "Напишіть функцію для обрахунку математичного сподівання та дисперсії випадкової величини $\\xi$ в залежності від кількості $n$ кидків кубика методом повного перебору.\n",
    "Виведіть результат для $n = 1, 2, 3, 4, 5, 6, 7, 8, 9.$\n",
    "\n",
    "Напишіть теоретичну формулу для математичного сподівання та дисперсії випадкової величини $\\xi$.\n",
    "Порівняйте теоретичні значення з обчисленими повним перебором."
   ]
  },
  {
   "cell_type": "code",
   "execution_count": 46,
   "metadata": {},
   "outputs": [],
   "source": [
    "def max_num(n):\n",
    "    xi = np.zeros(7)\n",
    "    xk = np.arange(1, 7)\n",
    "    for seq in product(range(1, 7), repeat=n):\n",
    "        xi[max(seq)] += 1\n",
    "    pk = xi[1:] / 6**n\n",
    "    E = expectation(pk, xk)\n",
    "    V = variance(pk, xk)\n",
    "    return(E, V)"
   ]
  },
  {
   "cell_type": "code",
   "execution_count": 72,
   "metadata": {},
   "outputs": [],
   "source": [
    "def max_num_th(n):\n",
    "    xk = np.arange(1, 7)\n",
    "    pk = np.zeros(6)\n",
    "    for k in range(1, 7):\n",
    "        pk[k-1] = k**n - (k-1)**n\n",
    "    pk = pk/6**n\n",
    "    E = expectation(pk, xk)\n",
    "    V = variance(pk, xk)\n",
    "    return(E, V)"
   ]
  },
  {
   "cell_type": "code",
   "execution_count": 73,
   "metadata": {},
   "outputs": [
    {
     "name": "stdout",
     "output_type": "stream",
     "text": [
      "Empirical for n = 1:\n",
      "\tE = 3.5\n",
      "\tV = 2.9166666666666665\n",
      "Theoretical for n = 1:\n",
      "\tE = 3.5\n",
      "\tV = 2.9166666666666665\n",
      "\n",
      "Empirical for n = 2:\n",
      "\tE = 4.472222222222222\n",
      "\tV = 1.9714506172839505\n",
      "Theoretical for n = 2:\n",
      "\tE = 4.472222222222222\n",
      "\tV = 1.9714506172839505\n",
      "\n",
      "Empirical for n = 3:\n",
      "\tE = 4.958333333333333\n",
      "\tV = 1.3084490740740742\n",
      "Theoretical for n = 3:\n",
      "\tE = 4.958333333333333\n",
      "\tV = 1.3084490740740742\n",
      "\n",
      "Empirical for n = 4:\n",
      "\tE = 5.244598765432099\n",
      "\tV = 0.9100788513565005\n",
      "Theoretical for n = 4:\n",
      "\tE = 5.244598765432099\n",
      "\tV = 0.9100788513565005\n",
      "\n",
      "Empirical for n = 5:\n",
      "\tE = 5.4309413580246915\n",
      "\tV = 0.6593255541742875\n",
      "Theoretical for n = 5:\n",
      "\tE = 5.4309413580246915\n",
      "\tV = 0.6593255541742875\n",
      "\n",
      "Empirical for n = 6:\n",
      "\tE = 5.560292352537722\n",
      "\tV = 0.4928497430622296\n",
      "Theoretical for n = 6:\n",
      "\tE = 5.560292352537722\n",
      "\tV = 0.4928497430622296\n",
      "\n",
      "Empirical for n = 7:\n",
      "\tE = 5.6541173696845\n",
      "\tV = 0.377325225479044\n",
      "Theoretical for n = 7:\n",
      "\tE = 5.6541173696845\n",
      "\tV = 0.377325225479044\n",
      "\n",
      "Empirical for n = 8:\n",
      "\tE = 5.724354257163542\n",
      "\tV = 0.29424630964894327\n",
      "Theoretical for n = 8:\n",
      "\tE = 5.724354257163542\n",
      "\tV = 0.29424630964894327\n",
      "\n",
      "Empirical for n = 9:\n",
      "\tE = 5.778176976165981\n",
      "\tV = 0.23276028509144198\n",
      "Theoretical for n = 9:\n",
      "\tE = 5.778176976165981\n",
      "\tV = 0.23276028509144198\n",
      "\n"
     ]
    }
   ],
   "source": [
    "for n in range(1, 10):\n",
    "    e, v = max_num(n)\n",
    "    print(f\"Empirical for n = {n}:\\n\\tE = {e}\\n\\tV = {v}\")\n",
    "    et, vt = max_num_th(n)\n",
    "    print(f\"Theoretical for n = {n}:\\n\\tE = {et}\\n\\tV = {vt}\")\n",
    "    print()"
   ]
  },
  {
   "cell_type": "markdown",
   "metadata": {},
   "source": [
    "## 4 Сума значень"
   ]
  },
  {
   "cell_type": "markdown",
   "metadata": {},
   "source": [
    "Нехай випадкова величина $\\xi$ - це сума значень після $n$ кидків грального кубика (сума цифр, що випали).\n",
    "\n",
    "Напишіть функцію для обрахунку математичного сподівання та дисперсії випадкової величини $\\xi$ в залежності від кількості $n$ кидків кубика методом повного перебору.\n",
    "Виведіть результат для $n = 1, 2, 3, 5, 7, 8.$\n",
    "\n",
    "Напишіть теоретичну формулу для математичного сподівання та дисперсії випадкової величини $\\xi$.\n",
    "Порівняйте теоретичні значення з обчисленими повним перебором."
   ]
  },
  {
   "cell_type": "code",
   "execution_count": 55,
   "metadata": {},
   "outputs": [],
   "source": [
    "def sum_num(n):\n",
    "    xk = np.arange(0, 6*n + 1)\n",
    "    pk = np.zeros(6*n + 1)\n",
    "    for cubes in product(range(1, 7), repeat=n):\n",
    "        pk[sum(cubes)] += 1\n",
    "    pk /= 6**n\n",
    "    \n",
    "    E = expectation(pk, xk)\n",
    "    V = variance(pk, xk)\n",
    "    return(E, V)"
   ]
  },
  {
   "cell_type": "code",
   "execution_count": 62,
   "metadata": {},
   "outputs": [],
   "source": [
    "def sum_num_th(n):\n",
    "    xk = np.arange(7)[1:]\n",
    "    pk = np.zeros(6) + 1/6\n",
    "    E = expectation(pk, xk)\n",
    "    V = variance(pk, xk)\n",
    "    return(n*E, n*V)"
   ]
  },
  {
   "cell_type": "code",
   "execution_count": 64,
   "metadata": {},
   "outputs": [
    {
     "name": "stdout",
     "output_type": "stream",
     "text": [
      "Empirical for n = 1:\n",
      "\tE = 3.5\n",
      "\tV = 2.9166666666666665\n",
      "Theoretical for n = 1:\n",
      "\tE = 3.5\n",
      "\tV = 2.9166666666666665\n",
      "\n",
      "Empirical for n = 2:\n",
      "\tE = 6.999999999999999\n",
      "\tV = 5.833333333333334\n",
      "Theoretical for n = 2:\n",
      "\tE = 7.0\n",
      "\tV = 5.833333333333333\n",
      "\n",
      "Empirical for n = 3:\n",
      "\tE = 10.500000000000002\n",
      "\tV = 8.75\n",
      "Theoretical for n = 3:\n",
      "\tE = 10.5\n",
      "\tV = 8.75\n",
      "\n",
      "Empirical for n = 5:\n",
      "\tE = 17.5\n",
      "\tV = 14.583333333333336\n",
      "Theoretical for n = 5:\n",
      "\tE = 17.5\n",
      "\tV = 14.583333333333332\n",
      "\n",
      "Empirical for n = 7:\n",
      "\tE = 24.5\n",
      "\tV = 20.41666666666666\n",
      "Theoretical for n = 7:\n",
      "\tE = 24.5\n",
      "\tV = 20.416666666666664\n",
      "\n",
      "Empirical for n = 8:\n",
      "\tE = 28.000000000000007\n",
      "\tV = 23.33333333333332\n",
      "Theoretical for n = 8:\n",
      "\tE = 28.0\n",
      "\tV = 23.333333333333332\n",
      "\n"
     ]
    }
   ],
   "source": [
    "for n in [1, 2, 3, 5, 7, 8]:\n",
    "    e, v = sum_num(n)\n",
    "    print(f\"Empirical for n = {n}:\\n\\tE = {e}\\n\\tV = {v}\")\n",
    "    et, vt = sum_num_th(n)\n",
    "    print(f\"Theoretical for n = {n}:\\n\\tE = {et}\\n\\tV = {vt}\")\n",
    "    print()"
   ]
  },
  {
   "cell_type": "markdown",
   "metadata": {},
   "source": [
    "## 5 Парадокс днів народження"
   ]
  },
  {
   "cell_type": "markdown",
   "metadata": {},
   "source": [
    "Нехай маємо $n$ людей.\n",
    "Їх дні народження припадають на один з 12 місяців.\n",
    "Нехай тоді випадкова величина $\\xi$ - це кількість співпадінь місяців народжень серед цих $n$ людей.\n",
    "\n",
    "Напишіть функцію для обрахунку математичного сподівання та дисперсії випадкової величини $\\xi$ в залежності від кількості $n$ людей методом повного перебору.\n",
    "Виведіть результат для $n = 1, 2, 3, 4, 5, 6.$\n",
    "\n",
    "Для якого $n$ виконується $\\mathsf{E}\\left[ \\xi \\right] \\geq 1$?\n",
    "\n",
    "**Зауваження.** Кількість співпадінь означає кількість однакових пар. Наприклад,\n",
    "- у наборі $\\{ 1, 1, 2, 3 \\}$ є одна пара;\n",
    "- у наборі $\\{ 1, 1, 1, 3 \\}$ є три пари;\n",
    "- у наборі $\\{ 1, 1, 1, 1 \\}$ є шість пар."
   ]
  },
  {
   "cell_type": "code",
   "execution_count": 78,
   "metadata": {},
   "outputs": [
    {
     "name": "stdout",
     "output_type": "stream",
     "text": [
      "1\n",
      "3\n",
      "6\n"
     ]
    }
   ],
   "source": [
    "def count_pairs(arr):\n",
    "    pairs = 0\n",
    "    for i, elem in enumerate(arr[:-1]):\n",
    "        pairs += arr[i+1:].count(elem)\n",
    "    return pairs\n",
    "\n",
    "print(count_pairs([1, 1, 2, 3]))\n",
    "print(count_pairs([1, 1, 1, 3]))\n",
    "print(count_pairs([1, 1, 1, 1]))"
   ]
  },
  {
   "cell_type": "code",
   "execution_count": 120,
   "metadata": {},
   "outputs": [],
   "source": [
    "def hb_days(n):\n",
    "    x = dict()\n",
    "    for days in product(range(12), repeat=n):\n",
    "        p = count_pairs(days)\n",
    "        if p in x:\n",
    "            x[p] += 1\n",
    "        else:\n",
    "            x[p] = 1\n",
    "            \n",
    "    for i in x:\n",
    "        x[i] /= 12**n\n",
    "    \n",
    "    E = expectation(np.array(list(x.keys())), np.array(list(x.values())))\n",
    "    V = variance(np.array(list(x.keys())), np.array(list(x.values())))\n",
    "    return(E, V)"
   ]
  },
  {
   "cell_type": "code",
   "execution_count": 121,
   "metadata": {},
   "outputs": [
    {
     "name": "stdout",
     "output_type": "stream",
     "text": [
      "Empirical for n = 1:\n",
      "\tE = 0.0\n",
      "\tV = 0.0\n",
      "\n",
      "Empirical for n = 2:\n",
      "\tE = 0.08333333333333333\n",
      "\tV = 0.0\n",
      "\n",
      "Empirical for n = 3:\n",
      "\tE = 0.25\n",
      "\tV = 0.17766203703703703\n",
      "\n",
      "Empirical for n = 4:\n",
      "\tE = 0.5\n",
      "\tV = 2.648558063271605\n",
      "\n",
      "Empirical for n = 5:\n",
      "\tE = 0.8333333333333334\n",
      "\tV = 16.915866948903798\n",
      "\n",
      "Empirical for n = 6:\n",
      "\tE = 1.25\n",
      "\tV = 72.19245880168428\n",
      "\n"
     ]
    }
   ],
   "source": [
    "for n in range(1, 7):\n",
    "    e, v = hb_days(n)\n",
    "    print(f\"Empirical for n = {n}:\\n\\tE = {e}\\n\\tV = {v}\")\n",
    "    print()"
   ]
  }
 ],
 "metadata": {
  "kernelspec": {
   "display_name": "Python 3",
   "language": "python",
   "name": "python3"
  },
  "language_info": {
   "codemirror_mode": {
    "name": "ipython",
    "version": 3
   },
   "file_extension": ".py",
   "mimetype": "text/x-python",
   "name": "python",
   "nbconvert_exporter": "python",
   "pygments_lexer": "ipython3",
   "version": "3.6.5"
  }
 },
 "nbformat": 4,
 "nbformat_minor": 1
}
